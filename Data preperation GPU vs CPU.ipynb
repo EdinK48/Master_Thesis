{
 "cells": [
  {
   "cell_type": "code",
   "execution_count": 27,
   "id": "76ab908e-b3d7-4f0c-b531-69da712e6ad6",
   "metadata": {},
   "outputs": [
    {
     "name": "stdout",
     "output_type": "stream",
     "text": [
      "Fri Sep  9 16:13:38 2022       \n",
      "+-----------------------------------------------------------------------------+\n",
      "| NVIDIA-SMI 460.91.03    Driver Version: 460.91.03    CUDA Version: 11.2     |\n",
      "|-------------------------------+----------------------+----------------------+\n",
      "| GPU  Name        Persistence-M| Bus-Id        Disp.A | Volatile Uncorr. ECC |\n",
      "| Fan  Temp  Perf  Pwr:Usage/Cap|         Memory-Usage | GPU-Util  Compute M. |\n",
      "|                               |                      |               MIG M. |\n",
      "|===============================+======================+======================|\n",
      "|   0  RTX A6000           Off  | 00000000:00:05.0 Off |                  Off |\n",
      "| 30%   38C    P8    23W / 300W |  10036MiB / 48685MiB |      0%      Default |\n",
      "|                               |                      |                  N/A |\n",
      "+-------------------------------+----------------------+----------------------+\n",
      "                                                                               \n",
      "+-----------------------------------------------------------------------------+\n",
      "| Processes:                                                                  |\n",
      "|  GPU   GI   CI        PID   Type   Process name                  GPU Memory |\n",
      "|        ID   ID                                                   Usage      |\n",
      "|=============================================================================|\n",
      "+-----------------------------------------------------------------------------+\n"
     ]
    }
   ],
   "source": [
    "!nvidia-smi"
   ]
  },
  {
   "cell_type": "code",
   "execution_count": 3,
   "id": "79d498cb-0e92-4f89-974f-0c40cc0ac216",
   "metadata": {},
   "outputs": [],
   "source": [
    "import cudf\n",
    "import cuml\n",
    "import pandas as pd\n",
    "import numpy as np\n",
    "import matplotlib.pyplot as plt\n",
    "#!pip install plotly\n",
    "#import plotly.graph_objs as go\n",
    "import requests\n",
    "#import seaborn as sns\n",
    "import warnings\n",
    "warnings.filterwarnings('ignore')\n",
    "import time\n",
    "from cuml.decomposition import PCA as PCA_CUDA\n",
    "from cuml import UMAP as UMAP_CUDA\n",
    "from cuml import IncrementalPCA as IncPCA_CUDA\n",
    "import cupy as cp\n",
    "from cuml.preprocessing import MaxAbsScaler\n",
    "import numba\n",
    "from cuml.preprocessing import OneHotEncoder\n",
    "from cuml import TSNE as TSNE_CUDA\n",
    "#from plotly.offline import init_notebook_mode, iplot\n",
    "#init_notebook_mode(connected=True) #plotly\n",
    "#from tsne_torch import TorchTSNE \n",
    "#import h5py\n",
    "from sklearn.decomposition import PCA as PCA_CPU\n",
    "from sklearn.manifold import TSNE as TSNE_CPU\n",
    "#from umap import UMAP as UMAP_CPU\n",
    "from sklearn.preprocessing import OneHotEncoder as CPU_ohe"
   ]
  },
  {
   "cell_type": "code",
   "execution_count": 4,
   "id": "4ebb2eff-6611-4fa3-9e76-3e3b8957d8be",
   "metadata": {},
   "outputs": [],
   "source": [
    "class GenomicVisualizerDataPrep():\n",
    "    \n",
    "    \n",
    "    def __init__(self, file_path):\n",
    "        start = time.time()\n",
    "        self.file_paths = file_path\n",
    "        self.df_genetic_data = cudf.read_hdf(path_or_buf=file_path, key=\"Genotypes_variants_per_sample\")\n",
    "        self.df_phenotype_data = cudf.read_hdf(path_or_buf=file_path, key=\"phenotype_data\")\n",
    "        self.X = None\n",
    "        self.performance_dict = {}\n",
    "        self.components = 0\n",
    "        self.columns = []\n",
    "        self.performance_dict[\"HDF5_Read_GPU\"] = time.time() - start        \n",
    "        \n",
    "        \n",
    "    def one_hot_encode(self):\n",
    "        start = time.time()\n",
    "        self.X = OneHotEncoder().fit_transform(self.df_genetic_data)\n",
    "        self.X = self.X.toarray().astype(cp.float64)\n",
    "        self.performance_dict[\"One_Hot_Encoding_GPU\"] = time.time() - start \n",
    "        \n",
    "\n",
    "class CPU_GenomicVisualizerDataPrep():\n",
    "    \n",
    "    def __init__(self, file_path):\n",
    "        start = time.time()\n",
    "        self.df_genetic_data = pd.read_hdf(path_or_buf=file_path, key=\"Genotypes_variants_per_sample\")\n",
    "        self.df_phenotype_data = pd.read_hdf(path_or_buf=file_path, key=\"phenotype_data\")\n",
    "        self.X = None\n",
    "        self.performance_dict = {}\n",
    "        self.components = 0\n",
    "        self.columns = []\n",
    "        self.performance_dict[\"HDF5_Read_CPU\"] = time.time() - start\n",
    "        \n",
    "        \n",
    "    def one_hot_encode(self):\n",
    "        start = time.time()\n",
    "        self.X = CPU_ohe().fit_transform(self.df_genetic_data.values).toarray().astype(np.float64)  \n",
    "        self.performance_dict[\"One_Hot_Encoding_CPU\"] = time.time() - start\n"
   ]
  },
  {
   "cell_type": "code",
   "execution_count": 5,
   "id": "e575bb3f-04d2-4b23-8c0a-56119e1644c1",
   "metadata": {},
   "outputs": [
    {
     "name": "stdout",
     "output_type": "stream",
     "text": [
      "Collecting tables\n",
      "  Downloading tables-3.7.0-cp38-cp38-manylinux_2_17_x86_64.manylinux2014_x86_64.whl (5.9 MB)\n",
      "\u001b[2K     \u001b[90m━━━━━━━━━━━━━━━━━━━━━━━━━━━━━━━━━━━━━━━━\u001b[0m \u001b[32m5.9/5.9 MB\u001b[0m \u001b[31m33.9 MB/s\u001b[0m eta \u001b[36m0:00:00\u001b[0m00:01\u001b[0m00:01\u001b[0m\n",
      "\u001b[?25hRequirement already satisfied: packaging in /opt/conda/envs/rapids/lib/python3.8/site-packages (from tables) (21.3)\n",
      "Requirement already satisfied: numpy>=1.19.0 in /opt/conda/envs/rapids/lib/python3.8/site-packages (from tables) (1.21.6)\n",
      "Collecting numexpr>=2.6.2\n",
      "  Downloading numexpr-2.8.3-cp38-cp38-manylinux_2_17_x86_64.manylinux2014_x86_64.whl (381 kB)\n",
      "\u001b[2K     \u001b[90m━━━━━━━━━━━━━━━━━━━━━━━━━━━━━━━━━━━━━━\u001b[0m \u001b[32m381.5/381.5 kB\u001b[0m \u001b[31m68.5 MB/s\u001b[0m eta \u001b[36m0:00:00\u001b[0m\n",
      "\u001b[?25hRequirement already satisfied: pyparsing!=3.0.5,>=2.0.2 in /opt/conda/envs/rapids/lib/python3.8/site-packages (from packaging->tables) (3.0.9)\n",
      "Installing collected packages: numexpr, tables\n",
      "Successfully installed numexpr-2.8.3 tables-3.7.0\n",
      "\u001b[33mWARNING: Running pip as the 'root' user can result in broken permissions and conflicting behaviour with the system package manager. It is recommended to use a virtual environment instead: https://pip.pypa.io/warnings/venv\u001b[0m\u001b[33m\n",
      "\u001b[0m"
     ]
    }
   ],
   "source": [
    "!pip install tables"
   ]
  },
  {
   "cell_type": "code",
   "execution_count": 20,
   "id": "cc1395d8-5df9-4e72-b692-914251676c4a",
   "metadata": {},
   "outputs": [],
   "source": [
    "genomic_visualizer = GenomicVisualizerDataPrep(\"AdaptMap-Goat-Project.h5\")"
   ]
  },
  {
   "cell_type": "code",
   "execution_count": 21,
   "id": "5d138c47-0b9a-45d1-bd75-9a3aad61d12a",
   "metadata": {},
   "outputs": [
    {
     "name": "stdout",
     "output_type": "stream",
     "text": [
      "{'HDF5_Read_GPU': 12.901121854782104}\n"
     ]
    }
   ],
   "source": [
    "print(genomic_visualizer.performance_dict)"
   ]
  },
  {
   "cell_type": "code",
   "execution_count": 12,
   "id": "1fb8508c-abd0-437d-a25c-fa5b56425171",
   "metadata": {},
   "outputs": [],
   "source": [
    "genomic_visualizer.one_hot_encode()"
   ]
  },
  {
   "cell_type": "code",
   "execution_count": 13,
   "id": "014a4c02-b9e4-4f48-8ef7-4e91c1ac095d",
   "metadata": {},
   "outputs": [
    {
     "name": "stdout",
     "output_type": "stream",
     "text": [
      "{'HDF5_Read_GPU': 13.290412425994873, 'One_Hot_Encoding_GPU': 309.4436366558075}\n"
     ]
    }
   ],
   "source": [
    "print(genomic_visualizer.performance_dict)"
   ]
  },
  {
   "cell_type": "code",
   "execution_count": 15,
   "id": "80ccc24c-3cd2-4213-8ce4-465965bab2e9",
   "metadata": {},
   "outputs": [],
   "source": [
    "genomic_visualizer_cpu = CPU_GenomicVisualizerDataPrep(\"AdaptMap-Goat-Project.h5\")"
   ]
  },
  {
   "cell_type": "code",
   "execution_count": 16,
   "id": "136756f2-3846-4b58-b448-e89dcda1b7be",
   "metadata": {},
   "outputs": [
    {
     "name": "stdout",
     "output_type": "stream",
     "text": [
      "{'HDF5_Read_CPU': 0.9782798290252686}\n"
     ]
    }
   ],
   "source": [
    "print(genomic_visualizer_cpu.performance_dict)"
   ]
  },
  {
   "cell_type": "code",
   "execution_count": 18,
   "id": "4faf2197-bf39-40ba-8082-e39f2a482779",
   "metadata": {},
   "outputs": [],
   "source": [
    "genomic_visualizer_cpu.one_hot_encode()"
   ]
  },
  {
   "cell_type": "code",
   "execution_count": 19,
   "id": "b4b941cb-ac53-4c76-85fc-ebf3e2accf7d",
   "metadata": {},
   "outputs": [
    {
     "name": "stdout",
     "output_type": "stream",
     "text": [
      "{'HDF5_Read_CPU': 0.9782798290252686, 'One_Hot_Encoding_CPU': 33.14959168434143}\n"
     ]
    }
   ],
   "source": [
    "print(genomic_visualizer_cpu.performance_dict)"
   ]
  },
  {
   "cell_type": "code",
   "execution_count": 23,
   "id": "24145a5d-069b-4248-9f48-af6e16532f8f",
   "metadata": {},
   "outputs": [
    {
     "name": "stdout",
     "output_type": "stream",
     "text": [
      "Transfer of dataframe from GPU to CPU: 0.00011777877807617188\n"
     ]
    }
   ],
   "source": [
    "start = time.time()\n",
    "genomic_visualizer.df_genetic_data = genomic_visualizer.df_genetic_data.to_pandas\n",
    "print(f\"Transfer of dataframe from GPU to CPU: {time.time()-start}\")"
   ]
  },
  {
   "cell_type": "code",
   "execution_count": 25,
   "id": "6219fda8-d98b-4f43-8967-6521bc98f394",
   "metadata": {},
   "outputs": [
    {
     "name": "stdout",
     "output_type": "stream",
     "text": [
      "Transfer of array from GPU to CPU: 0.00011205673217773438\n"
     ]
    }
   ],
   "source": [
    "start = time.time()\n",
    "genomic_visualizer.X = cp.asnumpy(genomic_visualizer.X).astype(np.float32)\n",
    "print(f\"Transfer of array from GPU to CPU: {time.time()-start}\")"
   ]
  },
  {
   "cell_type": "code",
   "execution_count": 26,
   "id": "1b5581af-15e4-4e28-8f32-ad5fdc6a458f",
   "metadata": {},
   "outputs": [
    {
     "name": "stdout",
     "output_type": "stream",
     "text": [
      "<class 'numpy.ndarray'>\n"
     ]
    }
   ],
   "source": [
    "print(type(genomic_visualizer.X))"
   ]
  },
  {
   "cell_type": "code",
   "execution_count": null,
   "id": "a9a1bba0-3477-481f-9ba2-36408588c23c",
   "metadata": {},
   "outputs": [],
   "source": []
  }
 ],
 "metadata": {
  "kernelspec": {
   "display_name": "Python 3 (ipykernel)",
   "language": "python",
   "name": "python3"
  },
  "language_info": {
   "codemirror_mode": {
    "name": "ipython",
    "version": 3
   },
   "file_extension": ".py",
   "mimetype": "text/x-python",
   "name": "python",
   "nbconvert_exporter": "python",
   "pygments_lexer": "ipython3",
   "version": "3.9.12"
  }
 },
 "nbformat": 4,
 "nbformat_minor": 5
}
