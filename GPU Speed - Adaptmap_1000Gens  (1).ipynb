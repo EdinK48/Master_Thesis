{
 "cells": [
  {
   "cell_type": "code",
   "execution_count": 2,
   "id": "4aac4c88-f441-49cd-9d5c-3d90d50d53fe",
   "metadata": {},
   "outputs": [
    {
     "name": "stdout",
     "output_type": "stream",
     "text": [
      "Fri Sep 16 12:02:15 2022       \n",
      "+-----------------------------------------------------------------------------+\n",
      "| NVIDIA-SMI 510.73.05    Driver Version: 510.73.05    CUDA Version: 11.6     |\n",
      "|-------------------------------+----------------------+----------------------+\n",
      "| GPU  Name        Persistence-M| Bus-Id        Disp.A | Volatile Uncorr. ECC |\n",
      "| Fan  Temp  Perf  Pwr:Usage/Cap|         Memory-Usage | GPU-Util  Compute M. |\n",
      "|                               |                      |               MIG M. |\n",
      "|===============================+======================+======================|\n",
      "|   0  NVIDIA RTX A5000    Off  | 00000000:00:05.0 Off |                  Off |\n",
      "| 30%   41C    P8    20W / 230W |   1525MiB / 24564MiB |      0%      Default |\n",
      "|                               |                      |                  N/A |\n",
      "+-------------------------------+----------------------+----------------------+\n",
      "                                                                               \n",
      "+-----------------------------------------------------------------------------+\n",
      "| Processes:                                                                  |\n",
      "|  GPU   GI   CI        PID   Type   Process name                  GPU Memory |\n",
      "|        ID   ID                                                   Usage      |\n",
      "|=============================================================================|\n",
      "+-----------------------------------------------------------------------------+\n"
     ]
    }
   ],
   "source": [
    "!nvidia-smi"
   ]
  },
  {
   "cell_type": "code",
   "execution_count": 3,
   "id": "60060b0c-317f-4c28-9bc9-10ad66531ec3",
   "metadata": {},
   "outputs": [
    {
     "name": "stdout",
     "output_type": "stream",
     "text": [
      "Requirement already satisfied: umap-learn in /opt/conda/envs/rapids/lib/python3.8/site-packages (0.5.3)\n",
      "Requirement already satisfied: numpy>=1.17 in /opt/conda/envs/rapids/lib/python3.8/site-packages (from umap-learn) (1.21.6)\n",
      "Requirement already satisfied: pynndescent>=0.5 in /opt/conda/envs/rapids/lib/python3.8/site-packages (from umap-learn) (0.5.7)\n",
      "Requirement already satisfied: tqdm in /opt/conda/envs/rapids/lib/python3.8/site-packages (from umap-learn) (4.64.0)\n",
      "Requirement already satisfied: numba>=0.49 in /opt/conda/envs/rapids/lib/python3.8/site-packages (from umap-learn) (0.55.1)\n",
      "Requirement already satisfied: scipy>=1.0 in /opt/conda/envs/rapids/lib/python3.8/site-packages (from umap-learn) (1.6.0)\n",
      "Requirement already satisfied: scikit-learn>=0.22 in /opt/conda/envs/rapids/lib/python3.8/site-packages (from umap-learn) (0.24.2)\n",
      "Requirement already satisfied: setuptools in /opt/conda/envs/rapids/lib/python3.8/site-packages (from numba>=0.49->umap-learn) (60.10.0)\n",
      "Requirement already satisfied: llvmlite<0.39,>=0.38.0rc1 in /opt/conda/envs/rapids/lib/python3.8/site-packages (from numba>=0.49->umap-learn) (0.38.1)\n",
      "Requirement already satisfied: joblib>=0.11 in /opt/conda/envs/rapids/lib/python3.8/site-packages (from pynndescent>=0.5->umap-learn) (1.1.0)\n",
      "Requirement already satisfied: threadpoolctl>=2.0.0 in /opt/conda/envs/rapids/lib/python3.8/site-packages (from scikit-learn>=0.22->umap-learn) (3.1.0)\n",
      "\u001b[33mWARNING: Running pip as the 'root' user can result in broken permissions and conflicting behaviour with the system package manager. It is recommended to use a virtual environment instead: https://pip.pypa.io/warnings/venv\u001b[0m\u001b[33m\n",
      "\u001b[0m"
     ]
    }
   ],
   "source": [
    "!pip install umap-learn"
   ]
  },
  {
   "cell_type": "code",
   "execution_count": 3,
   "id": "c9d8071f-9470-4652-9d8d-5f28340152c2",
   "metadata": {},
   "outputs": [],
   "source": [
    "#import cudf\n",
    "import cuml\n",
    "import pandas as pd\n",
    "import numpy as np\n",
    "import matplotlib.pyplot as plt\n",
    "import warnings\n",
    "warnings.filterwarnings('ignore')\n",
    "import time\n",
    "from cuml.decomposition import PCA as PCA_CUDA\n",
    "from cuml import UMAP as UMAP_CUDA\n",
    "from cuml import IncrementalPCA as IncPCA_CUDA\n",
    "import cupy as cp\n",
    "from cuml.preprocessing import MaxAbsScaler\n",
    "import numba\n",
    "from cuml.preprocessing import OneHotEncoder\n",
    "from cuml import TSNE as TSNE_CUDA\n",
    "from sklearn.decomposition import PCA as PCA_CPU\n",
    "from sklearn.manifold import TSNE as TSNE_CPU\n",
    "from umap import UMAP as UMAP_CPU\n",
    "from sklearn.preprocessing import OneHotEncoder as CPU_ohe\n",
    "from sklearn.decomposition import IncrementalPCA as IncPCA"
   ]
  },
  {
   "cell_type": "code",
   "execution_count": 4,
   "id": "b65a3b93-5128-4e3c-913b-8e57db124578",
   "metadata": {},
   "outputs": [],
   "source": [
    "import gc\n",
    "#import plotly.express as px"
   ]
  },
  {
   "cell_type": "code",
   "execution_count": 5,
   "id": "d64acbc0-71f7-48c4-b112-f516e596f0ce",
   "metadata": {},
   "outputs": [],
   "source": [
    "runtimes = {\n",
    "        \"1000Genomes\": {\n",
    "            \"GPU\": {},\n",
    "            \"CPU\": {}},\n",
    "        \"AdaptMAP\":{\n",
    "            \"GPU\": {},\n",
    "            \"CPU\": {}\n",
    "        }\n",
    "    }"
   ]
  },
  {
   "cell_type": "code",
   "execution_count": 6,
   "id": "cb32d46c-b9ef-4f67-a044-330568c5674b",
   "metadata": {},
   "outputs": [],
   "source": [
    "class GenomicVisualizer():\n",
    "    \n",
    "    \n",
    "    def __init__(self, file_path):\n",
    "        self.memory_cleared = False\n",
    "        self.df_genetic_data = pd.read_hdf(path_or_buf=file_path, key=\"Genotypes_variants_per_sample\")\n",
    "        self.df_phenotype_data = pd.read_hdf(path_or_buf=file_path, key=\"phenotype_data\")\n",
    "        self.X = None\n",
    "        self.performance_dict = {}\n",
    "        self.components = 0\n",
    "        self.columns = []\n",
    "        self.X_CPU = None\n",
    "        self.X_transformed_GPU = None\n",
    "        self.X_transformed_CPU = None\n",
    "        self.df_reduced = None\n",
    "        self.label = None\n",
    "        \n",
    "        \n",
    "    def one_hot_encode(self):\n",
    "        if self.memory_cleared is False:\n",
    "            if self.X is None:\n",
    "                self.X = cp.asarray(CPU_ohe().fit_transform(self.df_genetic_data.values).toarray().astype(np.float32))\n",
    "            else: print(\"The values of the genotype data frame self.df_genetic_data.values are already encoded\")\n",
    "        else: \n",
    "            if self.X is None:\n",
    "                self.X = cp.asarray(self.X_CPU)\n",
    "                self.memory_cleared = False\n",
    "        \n",
    "        \n",
    "    def reduce_dimension(self, algorithm='PCA_CUDA', n_components=3, label=None):\n",
    "        if self.memory_cleared is True: self.X = cp.asarray(self.X_CPU)\n",
    "        if label not in self.df_phenotype_data.columns:\n",
    "            print(f\"{label} is not a phenotype. Check the columns of df_phenotype_data from the class GenomicVisualizer()\")\n",
    "            return\n",
    "        else: self.label = label\n",
    "        self.components = n_components\n",
    "        if self.components not in [2, 3]:\n",
    "            print(\"The only number of n_components / dimensions allowed are 2 or 3\")\n",
    "            return\n",
    "        else:\n",
    "            if self.components == 2: self.columns = ['component1', 'component2']\n",
    "            else: self.columns = ['component1', 'component2', 'component3']\n",
    "        if algorithm == 'PCA_CUDA':\n",
    "            self.pca_cuda(n_components=n_components, algorithm=\"PCA_CUDA\")\n",
    "        elif algorithm == \"TSNE_CUDA\":\n",
    "            self.tsne_cuda(n_components=n_components, algorithm=\"TSNE_CUDA\")\n",
    "        elif algorithm == \"UMAP_CUDA\":\n",
    "            self.umap_cuda(n_components=n_components, algorithm=\"UMAP_CUDA\")\n",
    "    \n",
    "    \n",
    "    def pca_cuda(self, n_components, algorithm):\n",
    "        start_time = time.time()\n",
    "        if self.X.shape[1] <= 3000:\n",
    "            self.X_transformed_GPU = PCA_CUDA(n_components=n_components).fit_transform(self.X)\n",
    "        else:\n",
    "            self.X_transformed_GPU = IncPCA_CUDA(n_components=n_components).fit_transform(self.X)\n",
    "        self.performance_dict[algorithm] = time.time() - start_time\n",
    "        self.create_reduced_dataframe()\n",
    "    \n",
    "    \n",
    "    def tsne_cuda(self, n_components, algorithm):\n",
    "        start_time = time.time()\n",
    "        self.X_transformed_GPU = TSNE_CUDA(n_components=n_components).fit_transform(self.X)\n",
    "        self.performance_dict[algorithm] = time.time() - start_time\n",
    "        self.create_reduced_dataframe()\n",
    "\n",
    "    \n",
    "    def umap_cuda(self, n_components, algorithm):\n",
    "        start_time = time.time()\n",
    "        self.X_transformed_GPU = UMAP_CUDA(n_components=n_components).fit_transform(self.X)\n",
    "        self.performance_dict[algorithm] = time.time() - start_time\n",
    "        self.create_reduced_dataframe()\n",
    "    \n",
    "    \n",
    "    def create_reduced_dataframe(self):\n",
    "        self.df_reduced = pd.DataFrame(self.X_transformed_GPU.get(),\n",
    "                            index=self.df_genetic_data.index,\n",
    "                            columns=self.columns)\n",
    "        if self.label is not None:\n",
    "            self.df_reduced = self.df_reduced.merge(self.df_phenotype_data[self.label], left_index=True, right_index=True)\n",
    "\n",
    "    \n",
    "    def garbage_collect(self):\n",
    "        self.memory_cleared = True\n",
    "        self.X_CPU = cp.asnumpy(self.X).astype(np.float32)\n",
    "        self.X_transformed_CPU = cp.asnumpy(self.X_transformed_GPU).astype(np.float32)\n",
    "        del self.X \n",
    "        del self.X_transformed_GPU\n",
    "        gc.collect()    \n",
    "        \n",
    "    \n",
    "    def generate_figure_image(self, save=False):\n",
    "        pass\n"
   ]
  },
  {
   "cell_type": "code",
   "execution_count": 7,
   "id": "dc92e0d8-444b-4cc6-bee5-33ccb8405f99",
   "metadata": {},
   "outputs": [
    {
     "name": "stdout",
     "output_type": "stream",
     "text": [
      "Collecting tables\n",
      "  Downloading tables-3.7.0-cp38-cp38-manylinux_2_17_x86_64.manylinux2014_x86_64.whl (5.9 MB)\n",
      "\u001b[2K     \u001b[90m━━━━━━━━━━━━━━━━━━━━━━━━━━━━━━━━━━━━━━━━\u001b[0m \u001b[32m5.9/5.9 MB\u001b[0m \u001b[31m100.8 MB/s\u001b[0m eta \u001b[36m0:00:00\u001b[0m00:01\u001b[0m\n",
      "\u001b[?25hCollecting numexpr>=2.6.2\n",
      "  Downloading numexpr-2.8.3-cp38-cp38-manylinux_2_17_x86_64.manylinux2014_x86_64.whl (381 kB)\n",
      "\u001b[2K     \u001b[90m━━━━━━━━━━━━━━━━━━━━━━━━━━━━━━━━━━━━━━\u001b[0m \u001b[32m381.5/381.5 kB\u001b[0m \u001b[31m74.7 MB/s\u001b[0m eta \u001b[36m0:00:00\u001b[0m\n",
      "\u001b[?25hRequirement already satisfied: numpy>=1.19.0 in /opt/conda/envs/rapids/lib/python3.8/site-packages (from tables) (1.21.6)\n",
      "Requirement already satisfied: packaging in /opt/conda/envs/rapids/lib/python3.8/site-packages (from tables) (21.3)\n",
      "Requirement already satisfied: pyparsing!=3.0.5,>=2.0.2 in /opt/conda/envs/rapids/lib/python3.8/site-packages (from packaging->tables) (3.0.9)\n",
      "Installing collected packages: numexpr, tables\n",
      "Successfully installed numexpr-2.8.3 tables-3.7.0\n",
      "\u001b[33mWARNING: Running pip as the 'root' user can result in broken permissions and conflicting behaviour with the system package manager. It is recommended to use a virtual environment instead: https://pip.pypa.io/warnings/venv\u001b[0m\u001b[33m\n",
      "\u001b[0m"
     ]
    }
   ],
   "source": [
    "!pip install tables\n",
    "#!pip install -U kaleido"
   ]
  },
  {
   "cell_type": "code",
   "execution_count": 8,
   "id": "02686457-12e7-41a2-8303-bc53ffffabf2",
   "metadata": {
    "jp-MarkdownHeadingCollapsed": true,
    "tags": []
   },
   "outputs": [],
   "source": [
    "genomic_visualizer = GenomicVisualizer(\"AdaptMap-Goat-Project.h5\")"
   ]
  },
  {
   "cell_type": "code",
   "execution_count": 9,
   "id": "d77b40d8-95b5-45c1-9bf3-657531f7665f",
   "metadata": {},
   "outputs": [],
   "source": [
    "genomic_visualizer.one_hot_encode()"
   ]
  },
  {
   "cell_type": "code",
   "execution_count": 10,
   "id": "81de66f0-68b5-4037-ad2d-66d6915e7509",
   "metadata": {},
   "outputs": [
    {
     "name": "stdout",
     "output_type": "stream",
     "text": [
      "Fri Sep 16 12:03:37 2022       \n",
      "+-----------------------------------------------------------------------------+\n",
      "| NVIDIA-SMI 510.73.05    Driver Version: 510.73.05    CUDA Version: 11.6     |\n",
      "|-------------------------------+----------------------+----------------------+\n",
      "| GPU  Name        Persistence-M| Bus-Id        Disp.A | Volatile Uncorr. ECC |\n",
      "| Fan  Temp  Perf  Pwr:Usage/Cap|         Memory-Usage | GPU-Util  Compute M. |\n",
      "|                               |                      |               MIG M. |\n",
      "|===============================+======================+======================|\n",
      "|   0  NVIDIA RTX A5000    Off  | 00000000:00:05.0 Off |                  Off |\n",
      "| 30%   48C    P2    64W / 230W |   5296MiB / 24564MiB |      0%      Default |\n",
      "|                               |                      |                  N/A |\n",
      "+-------------------------------+----------------------+----------------------+\n",
      "                                                                               \n",
      "+-----------------------------------------------------------------------------+\n",
      "| Processes:                                                                  |\n",
      "|  GPU   GI   CI        PID   Type   Process name                  GPU Memory |\n",
      "|        ID   ID                                                   Usage      |\n",
      "|=============================================================================|\n",
      "+-----------------------------------------------------------------------------+\n"
     ]
    }
   ],
   "source": [
    "!nvidia-smi"
   ]
  },
  {
   "cell_type": "code",
   "execution_count": 12,
   "id": "7d0e7a5a-39c4-436b-9df4-383f38bacd2b",
   "metadata": {},
   "outputs": [],
   "source": [
    "df_reduced_dimensions = genomic_visualizer.reduce_dimension(algorithm='PCA_CUDA', n_components=2, label=\"Breeds\")"
   ]
  },
  {
   "cell_type": "code",
   "execution_count": 23,
   "id": "ab9c09c9-e739-4467-9652-9ce3569be154",
   "metadata": {},
   "outputs": [
    {
     "data": {
      "text/html": [
       "<div>\n",
       "<style scoped>\n",
       "    .dataframe tbody tr th:only-of-type {\n",
       "        vertical-align: middle;\n",
       "    }\n",
       "\n",
       "    .dataframe tbody tr th {\n",
       "        vertical-align: top;\n",
       "    }\n",
       "\n",
       "    .dataframe thead th {\n",
       "        text-align: right;\n",
       "    }\n",
       "</style>\n",
       "<table border=\"1\" class=\"dataframe\">\n",
       "  <thead>\n",
       "    <tr style=\"text-align: right;\">\n",
       "      <th></th>\n",
       "      <th>component1</th>\n",
       "      <th>component2</th>\n",
       "      <th>Breeds</th>\n",
       "    </tr>\n",
       "    <tr>\n",
       "      <th>iid</th>\n",
       "      <th></th>\n",
       "      <th></th>\n",
       "      <th></th>\n",
       "    </tr>\n",
       "  </thead>\n",
       "  <tbody>\n",
       "    <tr>\n",
       "      <th>ET_ABR0001</th>\n",
       "      <td>29.230209</td>\n",
       "      <td>-5.742365</td>\n",
       "      <td>Abergelle</td>\n",
       "    </tr>\n",
       "    <tr>\n",
       "      <th>ET_ABR0002</th>\n",
       "      <td>26.097027</td>\n",
       "      <td>-5.110254</td>\n",
       "      <td>Abergelle</td>\n",
       "    </tr>\n",
       "    <tr>\n",
       "      <th>ET_ABR0003</th>\n",
       "      <td>29.976587</td>\n",
       "      <td>-5.457181</td>\n",
       "      <td>Abergelle</td>\n",
       "    </tr>\n",
       "    <tr>\n",
       "      <th>ET_ABR0004</th>\n",
       "      <td>27.303400</td>\n",
       "      <td>-5.334871</td>\n",
       "      <td>Abergelle</td>\n",
       "    </tr>\n",
       "    <tr>\n",
       "      <th>ET_ABR0005</th>\n",
       "      <td>27.061237</td>\n",
       "      <td>-0.924010</td>\n",
       "      <td>Abergelle</td>\n",
       "    </tr>\n",
       "    <tr>\n",
       "      <th>...</th>\n",
       "      <td>...</td>\n",
       "      <td>...</td>\n",
       "      <td>...</td>\n",
       "    </tr>\n",
       "    <tr>\n",
       "      <th>ET_WYG0042</th>\n",
       "      <td>49.261333</td>\n",
       "      <td>-8.354962</td>\n",
       "      <td>Woyito Guji</td>\n",
       "    </tr>\n",
       "    <tr>\n",
       "      <th>ET_WYG0043</th>\n",
       "      <td>48.686619</td>\n",
       "      <td>-10.296255</td>\n",
       "      <td>Woyito Guji</td>\n",
       "    </tr>\n",
       "    <tr>\n",
       "      <th>ET_WYG0044</th>\n",
       "      <td>46.896328</td>\n",
       "      <td>-13.967939</td>\n",
       "      <td>Woyito Guji</td>\n",
       "    </tr>\n",
       "    <tr>\n",
       "      <th>ET_WYG0045</th>\n",
       "      <td>51.091370</td>\n",
       "      <td>-13.467413</td>\n",
       "      <td>Woyito Guji</td>\n",
       "    </tr>\n",
       "    <tr>\n",
       "      <th>ET_WYG0046</th>\n",
       "      <td>49.316074</td>\n",
       "      <td>-14.889883</td>\n",
       "      <td>Woyito Guji</td>\n",
       "    </tr>\n",
       "  </tbody>\n",
       "</table>\n",
       "<p>4653 rows × 3 columns</p>\n",
       "</div>"
      ],
      "text/plain": [
       "            component1  component2       Breeds\n",
       "iid                                            \n",
       "ET_ABR0001   29.230209   -5.742365    Abergelle\n",
       "ET_ABR0002   26.097027   -5.110254    Abergelle\n",
       "ET_ABR0003   29.976587   -5.457181    Abergelle\n",
       "ET_ABR0004   27.303400   -5.334871    Abergelle\n",
       "ET_ABR0005   27.061237   -0.924010    Abergelle\n",
       "...                ...         ...          ...\n",
       "ET_WYG0042   49.261333   -8.354962  Woyito Guji\n",
       "ET_WYG0043   48.686619  -10.296255  Woyito Guji\n",
       "ET_WYG0044   46.896328  -13.967939  Woyito Guji\n",
       "ET_WYG0045   51.091370  -13.467413  Woyito Guji\n",
       "ET_WYG0046   49.316074  -14.889883  Woyito Guji\n",
       "\n",
       "[4653 rows x 3 columns]"
      ]
     },
     "metadata": {},
     "output_type": "display_data"
    }
   ],
   "source": [
    "display(genomic_visualizer.df_reduced)"
   ]
  },
  {
   "cell_type": "code",
   "execution_count": 14,
   "id": "8f5194a6-ef70-4384-ab31-688b15e23956",
   "metadata": {},
   "outputs": [
    {
     "name": "stdout",
     "output_type": "stream",
     "text": [
      "Thu Sep 15 14:53:34 2022       \n",
      "+-----------------------------------------------------------------------------+\n",
      "| NVIDIA-SMI 510.73.05    Driver Version: 510.73.05    CUDA Version: 11.6     |\n",
      "|-------------------------------+----------------------+----------------------+\n",
      "| GPU  Name        Persistence-M| Bus-Id        Disp.A | Volatile Uncorr. ECC |\n",
      "| Fan  Temp  Perf  Pwr:Usage/Cap|         Memory-Usage | GPU-Util  Compute M. |\n",
      "|                               |                      |               MIG M. |\n",
      "|===============================+======================+======================|\n",
      "|   0  NVIDIA A100-SXM...  Off  | 00000000:00:05.0 Off |                    0 |\n",
      "| N/A   38C    P0    68W / 500W |  10063MiB / 81920MiB |      0%      Default |\n",
      "|                               |                      |             Disabled |\n",
      "+-------------------------------+----------------------+----------------------+\n",
      "                                                                               \n",
      "+-----------------------------------------------------------------------------+\n",
      "| Processes:                                                                  |\n",
      "|  GPU   GI   CI        PID   Type   Process name                  GPU Memory |\n",
      "|        ID   ID                                                   Usage      |\n",
      "|=============================================================================|\n",
      "+-----------------------------------------------------------------------------+\n"
     ]
    }
   ],
   "source": [
    "!nvidia-smi"
   ]
  },
  {
   "cell_type": "code",
   "execution_count": 15,
   "id": "8779ffa4-493d-4555-906e-66417b96f15c",
   "metadata": {},
   "outputs": [],
   "source": [
    "#genomic_visualizer.df_reduced.to_csv(\"IncPCA_adaptmap.csv\")"
   ]
  },
  {
   "cell_type": "code",
   "execution_count": 22,
   "id": "302590a0-f9e2-4163-9345-dba2fdc1758a",
   "metadata": {},
   "outputs": [],
   "source": [
    "#np.save(\"Encoded Genotype Data\", genomic_visualizer.X.get())"
   ]
  },
  {
   "cell_type": "code",
   "execution_count": 15,
   "id": "48e9f419-8ef4-443e-984b-bc9eb16714d0",
   "metadata": {},
   "outputs": [
    {
     "name": "stdout",
     "output_type": "stream",
     "text": [
      "Thu Sep 15 14:54:15 2022       \n",
      "+-----------------------------------------------------------------------------+\n",
      "| NVIDIA-SMI 510.73.05    Driver Version: 510.73.05    CUDA Version: 11.6     |\n",
      "|-------------------------------+----------------------+----------------------+\n",
      "| GPU  Name        Persistence-M| Bus-Id        Disp.A | Volatile Uncorr. ECC |\n",
      "| Fan  Temp  Perf  Pwr:Usage/Cap|         Memory-Usage | GPU-Util  Compute M. |\n",
      "|                               |                      |               MIG M. |\n",
      "|===============================+======================+======================|\n",
      "|   0  NVIDIA A100-SXM...  Off  | 00000000:00:05.0 Off |                    0 |\n",
      "| N/A   39C    P0    77W / 500W |   2013MiB / 81920MiB |      0%      Default |\n",
      "|                               |                      |             Disabled |\n",
      "+-------------------------------+----------------------+----------------------+\n",
      "                                                                               \n",
      "+-----------------------------------------------------------------------------+\n",
      "| Processes:                                                                  |\n",
      "|  GPU   GI   CI        PID   Type   Process name                  GPU Memory |\n",
      "|        ID   ID                                                   Usage      |\n",
      "|=============================================================================|\n",
      "+-----------------------------------------------------------------------------+\n"
     ]
    }
   ],
   "source": [
    "genomic_visualizer.garbage_collect()\n",
    "!nvidia-smi"
   ]
  },
  {
   "cell_type": "code",
   "execution_count": 11,
   "id": "232de64e-6228-458e-ad2a-526cd5f9a178",
   "metadata": {},
   "outputs": [],
   "source": [
    "#df_reduced_dimensions = genomic_visualizer.reduce_dimension(algorithm='PCA_CUDA', n_components=2)\n",
    "#df_reduced_dimensions = genomic_visualizer.reduce_dimension(algorithm='TSNE_CUDA', n_components=2)\n",
    "genomic_visualizer.reduce_dimension(algorithm='TSNE_CUDA', n_components=2, label=\"Breeds\")"
   ]
  },
  {
   "cell_type": "code",
   "execution_count": 12,
   "id": "ab9ad784-cb02-48d1-8de4-c2d1defd5a55",
   "metadata": {},
   "outputs": [
    {
     "data": {
      "text/html": [
       "<div>\n",
       "<style scoped>\n",
       "    .dataframe tbody tr th:only-of-type {\n",
       "        vertical-align: middle;\n",
       "    }\n",
       "\n",
       "    .dataframe tbody tr th {\n",
       "        vertical-align: top;\n",
       "    }\n",
       "\n",
       "    .dataframe thead th {\n",
       "        text-align: right;\n",
       "    }\n",
       "</style>\n",
       "<table border=\"1\" class=\"dataframe\">\n",
       "  <thead>\n",
       "    <tr style=\"text-align: right;\">\n",
       "      <th></th>\n",
       "      <th>component1</th>\n",
       "      <th>component2</th>\n",
       "      <th>Breeds</th>\n",
       "    </tr>\n",
       "    <tr>\n",
       "      <th>iid</th>\n",
       "      <th></th>\n",
       "      <th></th>\n",
       "      <th></th>\n",
       "    </tr>\n",
       "  </thead>\n",
       "  <tbody>\n",
       "    <tr>\n",
       "      <th>ET_ABR0001</th>\n",
       "      <td>42.045727</td>\n",
       "      <td>26.956886</td>\n",
       "      <td>Abergelle</td>\n",
       "    </tr>\n",
       "    <tr>\n",
       "      <th>ET_ABR0002</th>\n",
       "      <td>45.466545</td>\n",
       "      <td>23.352505</td>\n",
       "      <td>Abergelle</td>\n",
       "    </tr>\n",
       "    <tr>\n",
       "      <th>ET_ABR0003</th>\n",
       "      <td>39.130085</td>\n",
       "      <td>26.954721</td>\n",
       "      <td>Abergelle</td>\n",
       "    </tr>\n",
       "    <tr>\n",
       "      <th>ET_ABR0004</th>\n",
       "      <td>42.875393</td>\n",
       "      <td>26.871880</td>\n",
       "      <td>Abergelle</td>\n",
       "    </tr>\n",
       "    <tr>\n",
       "      <th>ET_ABR0005</th>\n",
       "      <td>38.830101</td>\n",
       "      <td>21.693975</td>\n",
       "      <td>Abergelle</td>\n",
       "    </tr>\n",
       "    <tr>\n",
       "      <th>...</th>\n",
       "      <td>...</td>\n",
       "      <td>...</td>\n",
       "      <td>...</td>\n",
       "    </tr>\n",
       "    <tr>\n",
       "      <th>ET_WYG0042</th>\n",
       "      <td>27.106670</td>\n",
       "      <td>29.790258</td>\n",
       "      <td>Woyito Guji</td>\n",
       "    </tr>\n",
       "    <tr>\n",
       "      <th>ET_WYG0043</th>\n",
       "      <td>29.572624</td>\n",
       "      <td>28.359650</td>\n",
       "      <td>Woyito Guji</td>\n",
       "    </tr>\n",
       "    <tr>\n",
       "      <th>ET_WYG0044</th>\n",
       "      <td>28.590889</td>\n",
       "      <td>30.493013</td>\n",
       "      <td>Woyito Guji</td>\n",
       "    </tr>\n",
       "    <tr>\n",
       "      <th>ET_WYG0045</th>\n",
       "      <td>29.639254</td>\n",
       "      <td>31.097387</td>\n",
       "      <td>Woyito Guji</td>\n",
       "    </tr>\n",
       "    <tr>\n",
       "      <th>ET_WYG0046</th>\n",
       "      <td>31.237181</td>\n",
       "      <td>29.340225</td>\n",
       "      <td>Woyito Guji</td>\n",
       "    </tr>\n",
       "  </tbody>\n",
       "</table>\n",
       "<p>4653 rows × 3 columns</p>\n",
       "</div>"
      ],
      "text/plain": [
       "            component1  component2       Breeds\n",
       "iid                                            \n",
       "ET_ABR0001   42.045727   26.956886    Abergelle\n",
       "ET_ABR0002   45.466545   23.352505    Abergelle\n",
       "ET_ABR0003   39.130085   26.954721    Abergelle\n",
       "ET_ABR0004   42.875393   26.871880    Abergelle\n",
       "ET_ABR0005   38.830101   21.693975    Abergelle\n",
       "...                ...         ...          ...\n",
       "ET_WYG0042   27.106670   29.790258  Woyito Guji\n",
       "ET_WYG0043   29.572624   28.359650  Woyito Guji\n",
       "ET_WYG0044   28.590889   30.493013  Woyito Guji\n",
       "ET_WYG0045   29.639254   31.097387  Woyito Guji\n",
       "ET_WYG0046   31.237181   29.340225  Woyito Guji\n",
       "\n",
       "[4653 rows x 3 columns]"
      ]
     },
     "metadata": {},
     "output_type": "display_data"
    }
   ],
   "source": [
    "display(genomic_visualizer.df_reduced)"
   ]
  },
  {
   "cell_type": "code",
   "execution_count": 21,
   "id": "78903cc8-65fc-4204-aeb4-e5797da7a4b8",
   "metadata": {},
   "outputs": [
    {
     "name": "stdout",
     "output_type": "stream",
     "text": [
      "Thu Sep 15 14:56:06 2022       \n",
      "+-----------------------------------------------------------------------------+\n",
      "| NVIDIA-SMI 510.73.05    Driver Version: 510.73.05    CUDA Version: 11.6     |\n",
      "|-------------------------------+----------------------+----------------------+\n",
      "| GPU  Name        Persistence-M| Bus-Id        Disp.A | Volatile Uncorr. ECC |\n",
      "| Fan  Temp  Perf  Pwr:Usage/Cap|         Memory-Usage | GPU-Util  Compute M. |\n",
      "|                               |                      |               MIG M. |\n",
      "|===============================+======================+======================|\n",
      "|   0  NVIDIA A100-SXM...  Off  | 00000000:00:05.0 Off |                    0 |\n",
      "| N/A   39C    P0    69W / 500W |   4761MiB / 81920MiB |      0%      Default |\n",
      "|                               |                      |             Disabled |\n",
      "+-------------------------------+----------------------+----------------------+\n",
      "                                                                               \n",
      "+-----------------------------------------------------------------------------+\n",
      "| Processes:                                                                  |\n",
      "|  GPU   GI   CI        PID   Type   Process name                  GPU Memory |\n",
      "|        ID   ID                                                   Usage      |\n",
      "|=============================================================================|\n",
      "+-----------------------------------------------------------------------------+\n"
     ]
    }
   ],
   "source": [
    "!nvidia-smi"
   ]
  },
  {
   "cell_type": "code",
   "execution_count": 13,
   "id": "f19c165a-c056-4b05-9494-8790502b2903",
   "metadata": {},
   "outputs": [],
   "source": [
    "genomic_visualizer.df_reduced.to_csv(\"TSNE_GPU_adaptmap.csv\")"
   ]
  },
  {
   "cell_type": "code",
   "execution_count": 25,
   "id": "7df4f002-8157-41f8-a7df-e688b29b6799",
   "metadata": {},
   "outputs": [
    {
     "name": "stdout",
     "output_type": "stream",
     "text": [
      "Thu Sep 15 14:58:43 2022       \n",
      "+-----------------------------------------------------------------------------+\n",
      "| NVIDIA-SMI 510.73.05    Driver Version: 510.73.05    CUDA Version: 11.6     |\n",
      "|-------------------------------+----------------------+----------------------+\n",
      "| GPU  Name        Persistence-M| Bus-Id        Disp.A | Volatile Uncorr. ECC |\n",
      "| Fan  Temp  Perf  Pwr:Usage/Cap|         Memory-Usage | GPU-Util  Compute M. |\n",
      "|                               |                      |               MIG M. |\n",
      "|===============================+======================+======================|\n",
      "|   0  NVIDIA A100-SXM...  Off  | 00000000:00:05.0 Off |                    0 |\n",
      "| N/A   39C    P0    70W / 500W |   2079MiB / 81920MiB |      0%      Default |\n",
      "|                               |                      |             Disabled |\n",
      "+-------------------------------+----------------------+----------------------+\n",
      "                                                                               \n",
      "+-----------------------------------------------------------------------------+\n",
      "| Processes:                                                                  |\n",
      "|  GPU   GI   CI        PID   Type   Process name                  GPU Memory |\n",
      "|        ID   ID                                                   Usage      |\n",
      "|=============================================================================|\n",
      "+-----------------------------------------------------------------------------+\n"
     ]
    }
   ],
   "source": [
    "genomic_visualizer.garbage_collect()\n",
    "!nvidia-smi"
   ]
  },
  {
   "cell_type": "code",
   "execution_count": 26,
   "id": "685448d9-eb04-4d15-b159-9ca6c52beea9",
   "metadata": {},
   "outputs": [],
   "source": [
    "genomic_visualizer.reduce_dimension(algorithm='UMAP_CUDA', n_components=2, label=\"Breeds\")"
   ]
  },
  {
   "cell_type": "code",
   "execution_count": 27,
   "id": "90490036-2089-47c4-9f7a-392506712c11",
   "metadata": {},
   "outputs": [
    {
     "data": {
      "text/html": [
       "<div>\n",
       "<style scoped>\n",
       "    .dataframe tbody tr th:only-of-type {\n",
       "        vertical-align: middle;\n",
       "    }\n",
       "\n",
       "    .dataframe tbody tr th {\n",
       "        vertical-align: top;\n",
       "    }\n",
       "\n",
       "    .dataframe thead th {\n",
       "        text-align: right;\n",
       "    }\n",
       "</style>\n",
       "<table border=\"1\" class=\"dataframe\">\n",
       "  <thead>\n",
       "    <tr style=\"text-align: right;\">\n",
       "      <th></th>\n",
       "      <th>component1</th>\n",
       "      <th>component2</th>\n",
       "      <th>Breeds</th>\n",
       "    </tr>\n",
       "    <tr>\n",
       "      <th>iid</th>\n",
       "      <th></th>\n",
       "      <th></th>\n",
       "      <th></th>\n",
       "    </tr>\n",
       "  </thead>\n",
       "  <tbody>\n",
       "    <tr>\n",
       "      <th>ET_ABR0001</th>\n",
       "      <td>-14.081036</td>\n",
       "      <td>-0.519868</td>\n",
       "      <td>Abergelle</td>\n",
       "    </tr>\n",
       "    <tr>\n",
       "      <th>ET_ABR0002</th>\n",
       "      <td>-14.108814</td>\n",
       "      <td>-0.538992</td>\n",
       "      <td>Abergelle</td>\n",
       "    </tr>\n",
       "    <tr>\n",
       "      <th>ET_ABR0003</th>\n",
       "      <td>-14.070383</td>\n",
       "      <td>-0.557611</td>\n",
       "      <td>Abergelle</td>\n",
       "    </tr>\n",
       "    <tr>\n",
       "      <th>ET_ABR0004</th>\n",
       "      <td>-14.107050</td>\n",
       "      <td>-0.545480</td>\n",
       "      <td>Abergelle</td>\n",
       "    </tr>\n",
       "    <tr>\n",
       "      <th>ET_ABR0005</th>\n",
       "      <td>-14.121336</td>\n",
       "      <td>-0.549765</td>\n",
       "      <td>Abergelle</td>\n",
       "    </tr>\n",
       "    <tr>\n",
       "      <th>...</th>\n",
       "      <td>...</td>\n",
       "      <td>...</td>\n",
       "      <td>...</td>\n",
       "    </tr>\n",
       "    <tr>\n",
       "      <th>ET_WYG0042</th>\n",
       "      <td>-5.932293</td>\n",
       "      <td>-5.257528</td>\n",
       "      <td>Woyito Guji</td>\n",
       "    </tr>\n",
       "    <tr>\n",
       "      <th>ET_WYG0043</th>\n",
       "      <td>-5.960082</td>\n",
       "      <td>-5.342309</td>\n",
       "      <td>Woyito Guji</td>\n",
       "    </tr>\n",
       "    <tr>\n",
       "      <th>ET_WYG0044</th>\n",
       "      <td>-5.958420</td>\n",
       "      <td>-5.390850</td>\n",
       "      <td>Woyito Guji</td>\n",
       "    </tr>\n",
       "    <tr>\n",
       "      <th>ET_WYG0045</th>\n",
       "      <td>-5.982540</td>\n",
       "      <td>-5.471337</td>\n",
       "      <td>Woyito Guji</td>\n",
       "    </tr>\n",
       "    <tr>\n",
       "      <th>ET_WYG0046</th>\n",
       "      <td>-5.991935</td>\n",
       "      <td>-5.394073</td>\n",
       "      <td>Woyito Guji</td>\n",
       "    </tr>\n",
       "  </tbody>\n",
       "</table>\n",
       "<p>4653 rows × 3 columns</p>\n",
       "</div>"
      ],
      "text/plain": [
       "            component1  component2       Breeds\n",
       "iid                                            \n",
       "ET_ABR0001  -14.081036   -0.519868    Abergelle\n",
       "ET_ABR0002  -14.108814   -0.538992    Abergelle\n",
       "ET_ABR0003  -14.070383   -0.557611    Abergelle\n",
       "ET_ABR0004  -14.107050   -0.545480    Abergelle\n",
       "ET_ABR0005  -14.121336   -0.549765    Abergelle\n",
       "...                ...         ...          ...\n",
       "ET_WYG0042   -5.932293   -5.257528  Woyito Guji\n",
       "ET_WYG0043   -5.960082   -5.342309  Woyito Guji\n",
       "ET_WYG0044   -5.958420   -5.390850  Woyito Guji\n",
       "ET_WYG0045   -5.982540   -5.471337  Woyito Guji\n",
       "ET_WYG0046   -5.991935   -5.394073  Woyito Guji\n",
       "\n",
       "[4653 rows x 3 columns]"
      ]
     },
     "metadata": {},
     "output_type": "display_data"
    }
   ],
   "source": [
    "display(genomic_visualizer.df_reduced)"
   ]
  },
  {
   "cell_type": "code",
   "execution_count": 46,
   "id": "d54ab127-f770-4e13-a6f6-7120a0b0b4bb",
   "metadata": {},
   "outputs": [
    {
     "name": "stdout",
     "output_type": "stream",
     "text": [
      "Thu Sep 15 15:46:13 2022       \n",
      "+-----------------------------------------------------------------------------+\n",
      "| NVIDIA-SMI 510.73.05    Driver Version: 510.73.05    CUDA Version: 11.6     |\n",
      "|-------------------------------+----------------------+----------------------+\n",
      "| GPU  Name        Persistence-M| Bus-Id        Disp.A | Volatile Uncorr. ECC |\n",
      "| Fan  Temp  Perf  Pwr:Usage/Cap|         Memory-Usage | GPU-Util  Compute M. |\n",
      "|                               |                      |               MIG M. |\n",
      "|===============================+======================+======================|\n",
      "|   0  NVIDIA A100-SXM...  Off  | 00000000:00:05.0 Off |                    0 |\n",
      "| N/A   40C    P0    68W / 500W |   2245MiB / 81920MiB |      0%      Default |\n",
      "|                               |                      |             Disabled |\n",
      "+-------------------------------+----------------------+----------------------+\n",
      "                                                                               \n",
      "+-----------------------------------------------------------------------------+\n",
      "| Processes:                                                                  |\n",
      "|  GPU   GI   CI        PID   Type   Process name                  GPU Memory |\n",
      "|        ID   ID                                                   Usage      |\n",
      "|=============================================================================|\n",
      "+-----------------------------------------------------------------------------+\n"
     ]
    }
   ],
   "source": [
    "!nvidia-smi"
   ]
  },
  {
   "cell_type": "code",
   "execution_count": 29,
   "id": "f66669a9-9e77-4f1c-a1f7-a20c211f648a",
   "metadata": {},
   "outputs": [],
   "source": [
    "genomic_visualizer.df_reduced.to_csv(\"UMAP_GPU_adaptmap.csv\")"
   ]
  },
  {
   "cell_type": "code",
   "execution_count": 38,
   "id": "53b83319-dd38-403f-b903-7e4bba851f75",
   "metadata": {},
   "outputs": [
    {
     "data": {
      "text/plain": [
       "{'1000Genomes': {'GPU': {'PCA_CUDA': 15.263635396957397,\n",
       "   'TSNE_CUDA': 0.9569859504699707,\n",
       "   'UMAP_CUDA': 1.5256545543670654},\n",
       "  'CPU': {}},\n",
       " 'AdaptMAP': {'GPU': {'PCA_CUDA': 15.263635396957397,\n",
       "   'TSNE_CUDA': 0.9569859504699707,\n",
       "   'UMAP_CUDA': 1.5256545543670654},\n",
       "  'CPU': {}}}"
      ]
     },
     "execution_count": 38,
     "metadata": {},
     "output_type": "execute_result"
    }
   ],
   "source": [
    "runtimes[\"AdaptMAP\"][\"GPU\"] = genomic_visualizer.performance_dict\n",
    "runtimes"
   ]
  },
  {
   "cell_type": "code",
   "execution_count": 41,
   "id": "7d0df7b0-4051-4165-aba3-33d1e55bfe83",
   "metadata": {},
   "outputs": [
    {
     "name": "stdout",
     "output_type": "stream",
     "text": [
      "Thu Sep 15 15:42:22 2022       \n",
      "+-----------------------------------------------------------------------------+\n",
      "| NVIDIA-SMI 510.73.05    Driver Version: 510.73.05    CUDA Version: 11.6     |\n",
      "|-------------------------------+----------------------+----------------------+\n",
      "| GPU  Name        Persistence-M| Bus-Id        Disp.A | Volatile Uncorr. ECC |\n",
      "| Fan  Temp  Perf  Pwr:Usage/Cap|         Memory-Usage | GPU-Util  Compute M. |\n",
      "|                               |                      |               MIG M. |\n",
      "|===============================+======================+======================|\n",
      "|   0  NVIDIA A100-SXM...  Off  | 00000000:00:05.0 Off |                    0 |\n",
      "| N/A   40C    P0    71W / 500W |   2171MiB / 81920MiB |      0%      Default |\n",
      "|                               |                      |             Disabled |\n",
      "+-------------------------------+----------------------+----------------------+\n",
      "                                                                               \n",
      "+-----------------------------------------------------------------------------+\n",
      "| Processes:                                                                  |\n",
      "|  GPU   GI   CI        PID   Type   Process name                  GPU Memory |\n",
      "|        ID   ID                                                   Usage      |\n",
      "|=============================================================================|\n",
      "+-----------------------------------------------------------------------------+\n"
     ]
    }
   ],
   "source": [
    "genomic_visualizer.garbage_collect()\n",
    "!nvidia-smi"
   ]
  },
  {
   "cell_type": "code",
   "execution_count": 42,
   "id": "11ad5efc-2c71-4670-9def-f5556a331fe6",
   "metadata": {},
   "outputs": [],
   "source": [
    "genomic_visualizer = GenomicVisualizer(\"1000_genomes_project.h5\")\n",
    "genomic_visualizer.one_hot_encode()"
   ]
  },
  {
   "cell_type": "code",
   "execution_count": 44,
   "id": "bbde50d4-3dbb-439f-80ae-2b3d63048c46",
   "metadata": {},
   "outputs": [
    {
     "data": {
      "text/html": [
       "<div>\n",
       "<style scoped>\n",
       "    .dataframe tbody tr th:only-of-type {\n",
       "        vertical-align: middle;\n",
       "    }\n",
       "\n",
       "    .dataframe tbody tr th {\n",
       "        vertical-align: top;\n",
       "    }\n",
       "\n",
       "    .dataframe thead th {\n",
       "        text-align: right;\n",
       "    }\n",
       "</style>\n",
       "<table border=\"1\" class=\"dataframe\">\n",
       "  <thead>\n",
       "    <tr style=\"text-align: right;\">\n",
       "      <th></th>\n",
       "      <th>Superpopulation code</th>\n",
       "      <th>Superpopulation name</th>\n",
       "    </tr>\n",
       "    <tr>\n",
       "      <th>Sample name</th>\n",
       "      <th></th>\n",
       "      <th></th>\n",
       "    </tr>\n",
       "  </thead>\n",
       "  <tbody>\n",
       "    <tr>\n",
       "      <th>HG00105</th>\n",
       "      <td>EUR</td>\n",
       "      <td>European Ancestry</td>\n",
       "    </tr>\n",
       "    <tr>\n",
       "      <th>HG00112</th>\n",
       "      <td>EUR</td>\n",
       "      <td>European Ancestry</td>\n",
       "    </tr>\n",
       "    <tr>\n",
       "      <th>HG00117</th>\n",
       "      <td>EUR</td>\n",
       "      <td>European Ancestry</td>\n",
       "    </tr>\n",
       "    <tr>\n",
       "      <th>HG00124</th>\n",
       "      <td>EUR</td>\n",
       "      <td>European Ancestry</td>\n",
       "    </tr>\n",
       "    <tr>\n",
       "      <th>HG00129</th>\n",
       "      <td>EUR</td>\n",
       "      <td>European Ancestry</td>\n",
       "    </tr>\n",
       "  </tbody>\n",
       "</table>\n",
       "</div>"
      ],
      "text/plain": [
       "            Superpopulation code Superpopulation name\n",
       "Sample name                                          \n",
       "HG00105                      EUR    European Ancestry\n",
       "HG00112                      EUR    European Ancestry\n",
       "HG00117                      EUR    European Ancestry\n",
       "HG00124                      EUR    European Ancestry\n",
       "HG00129                      EUR    European Ancestry"
      ]
     },
     "execution_count": 44,
     "metadata": {},
     "output_type": "execute_result"
    }
   ],
   "source": [
    "genomic_visualizer.df_phenotype_data.head()"
   ]
  },
  {
   "cell_type": "code",
   "execution_count": 47,
   "id": "6358b393-109f-4d61-b36a-a91a17e5768f",
   "metadata": {},
   "outputs": [],
   "source": [
    "genomic_visualizer.reduce_dimension(algorithm='PCA_CUDA', n_components=2, label=\"Superpopulation name\")"
   ]
  },
  {
   "cell_type": "code",
   "execution_count": 48,
   "id": "6e7bdbff-e713-491a-b2a7-87a27441c356",
   "metadata": {},
   "outputs": [
    {
     "data": {
      "text/html": [
       "<div>\n",
       "<style scoped>\n",
       "    .dataframe tbody tr th:only-of-type {\n",
       "        vertical-align: middle;\n",
       "    }\n",
       "\n",
       "    .dataframe tbody tr th {\n",
       "        vertical-align: top;\n",
       "    }\n",
       "\n",
       "    .dataframe thead th {\n",
       "        text-align: right;\n",
       "    }\n",
       "</style>\n",
       "<table border=\"1\" class=\"dataframe\">\n",
       "  <thead>\n",
       "    <tr style=\"text-align: right;\">\n",
       "      <th></th>\n",
       "      <th>component1</th>\n",
       "      <th>component2</th>\n",
       "      <th>Superpopulation name</th>\n",
       "    </tr>\n",
       "  </thead>\n",
       "  <tbody>\n",
       "    <tr>\n",
       "      <th>HG00096</th>\n",
       "      <td>-1.552997</td>\n",
       "      <td>1.867352</td>\n",
       "      <td>European Ancestry</td>\n",
       "    </tr>\n",
       "    <tr>\n",
       "      <th>HG00097</th>\n",
       "      <td>-1.730807</td>\n",
       "      <td>1.883513</td>\n",
       "      <td>European Ancestry</td>\n",
       "    </tr>\n",
       "    <tr>\n",
       "      <th>HG00099</th>\n",
       "      <td>-1.972736</td>\n",
       "      <td>2.060777</td>\n",
       "      <td>European Ancestry</td>\n",
       "    </tr>\n",
       "    <tr>\n",
       "      <th>HG00100</th>\n",
       "      <td>-2.437779</td>\n",
       "      <td>2.292182</td>\n",
       "      <td>European Ancestry</td>\n",
       "    </tr>\n",
       "    <tr>\n",
       "      <th>HG00101</th>\n",
       "      <td>-2.180666</td>\n",
       "      <td>2.179227</td>\n",
       "      <td>European Ancestry</td>\n",
       "    </tr>\n",
       "  </tbody>\n",
       "</table>\n",
       "</div>"
      ],
      "text/plain": [
       "         component1  component2 Superpopulation name\n",
       "HG00096   -1.552997    1.867352    European Ancestry\n",
       "HG00097   -1.730807    1.883513    European Ancestry\n",
       "HG00099   -1.972736    2.060777    European Ancestry\n",
       "HG00100   -2.437779    2.292182    European Ancestry\n",
       "HG00101   -2.180666    2.179227    European Ancestry"
      ]
     },
     "execution_count": 48,
     "metadata": {},
     "output_type": "execute_result"
    }
   ],
   "source": [
    "genomic_visualizer.df_reduced.head()"
   ]
  },
  {
   "cell_type": "code",
   "execution_count": 49,
   "id": "91cb6c0a-0e50-4f99-8fee-9adf4144222c",
   "metadata": {},
   "outputs": [
    {
     "name": "stdout",
     "output_type": "stream",
     "text": [
      "Thu Sep 15 15:47:03 2022       \n",
      "+-----------------------------------------------------------------------------+\n",
      "| NVIDIA-SMI 510.73.05    Driver Version: 510.73.05    CUDA Version: 11.6     |\n",
      "|-------------------------------+----------------------+----------------------+\n",
      "| GPU  Name        Persistence-M| Bus-Id        Disp.A | Volatile Uncorr. ECC |\n",
      "| Fan  Temp  Perf  Pwr:Usage/Cap|         Memory-Usage | GPU-Util  Compute M. |\n",
      "|                               |                      |               MIG M. |\n",
      "|===============================+======================+======================|\n",
      "|   0  NVIDIA A100-SXM...  Off  | 00000000:00:05.0 Off |                    0 |\n",
      "| N/A   39C    P0    68W / 500W |   2245MiB / 81920MiB |      0%      Default |\n",
      "|                               |                      |             Disabled |\n",
      "+-------------------------------+----------------------+----------------------+\n",
      "                                                                               \n",
      "+-----------------------------------------------------------------------------+\n",
      "| Processes:                                                                  |\n",
      "|  GPU   GI   CI        PID   Type   Process name                  GPU Memory |\n",
      "|        ID   ID                                                   Usage      |\n",
      "|=============================================================================|\n",
      "+-----------------------------------------------------------------------------+\n"
     ]
    }
   ],
   "source": [
    "!nvidia-smi"
   ]
  },
  {
   "cell_type": "code",
   "execution_count": 50,
   "id": "3183893a-3607-4d24-9ec0-80554f6e4a3d",
   "metadata": {},
   "outputs": [],
   "source": [
    "genomic_visualizer.df_reduced.to_csv(\"PCA_GPU_1000genomes.csv\")"
   ]
  },
  {
   "cell_type": "code",
   "execution_count": 51,
   "id": "cdb268f3-5cd9-4a13-8eb1-80bee15d45f5",
   "metadata": {},
   "outputs": [],
   "source": [
    "genomic_visualizer.reduce_dimension(algorithm='TSNE_CUDA', n_components=2, label=\"Superpopulation name\")"
   ]
  },
  {
   "cell_type": "code",
   "execution_count": 52,
   "id": "7a737fa6-25de-4f19-931f-c34902b9320d",
   "metadata": {},
   "outputs": [
    {
     "data": {
      "text/html": [
       "<div>\n",
       "<style scoped>\n",
       "    .dataframe tbody tr th:only-of-type {\n",
       "        vertical-align: middle;\n",
       "    }\n",
       "\n",
       "    .dataframe tbody tr th {\n",
       "        vertical-align: top;\n",
       "    }\n",
       "\n",
       "    .dataframe thead th {\n",
       "        text-align: right;\n",
       "    }\n",
       "</style>\n",
       "<table border=\"1\" class=\"dataframe\">\n",
       "  <thead>\n",
       "    <tr style=\"text-align: right;\">\n",
       "      <th></th>\n",
       "      <th>component1</th>\n",
       "      <th>component2</th>\n",
       "      <th>Superpopulation name</th>\n",
       "    </tr>\n",
       "  </thead>\n",
       "  <tbody>\n",
       "    <tr>\n",
       "      <th>HG00096</th>\n",
       "      <td>-19.458225</td>\n",
       "      <td>33.937195</td>\n",
       "      <td>European Ancestry</td>\n",
       "    </tr>\n",
       "    <tr>\n",
       "      <th>HG00097</th>\n",
       "      <td>2.362793</td>\n",
       "      <td>61.716125</td>\n",
       "      <td>European Ancestry</td>\n",
       "    </tr>\n",
       "    <tr>\n",
       "      <th>HG00099</th>\n",
       "      <td>13.721524</td>\n",
       "      <td>47.530949</td>\n",
       "      <td>European Ancestry</td>\n",
       "    </tr>\n",
       "    <tr>\n",
       "      <th>HG00100</th>\n",
       "      <td>-12.949867</td>\n",
       "      <td>60.266125</td>\n",
       "      <td>European Ancestry</td>\n",
       "    </tr>\n",
       "    <tr>\n",
       "      <th>HG00101</th>\n",
       "      <td>-24.531895</td>\n",
       "      <td>33.519676</td>\n",
       "      <td>European Ancestry</td>\n",
       "    </tr>\n",
       "  </tbody>\n",
       "</table>\n",
       "</div>"
      ],
      "text/plain": [
       "         component1  component2 Superpopulation name\n",
       "HG00096  -19.458225   33.937195    European Ancestry\n",
       "HG00097    2.362793   61.716125    European Ancestry\n",
       "HG00099   13.721524   47.530949    European Ancestry\n",
       "HG00100  -12.949867   60.266125    European Ancestry\n",
       "HG00101  -24.531895   33.519676    European Ancestry"
      ]
     },
     "execution_count": 52,
     "metadata": {},
     "output_type": "execute_result"
    }
   ],
   "source": [
    "genomic_visualizer.df_reduced.head()"
   ]
  },
  {
   "cell_type": "code",
   "execution_count": 53,
   "id": "0e31769b-78be-4cf0-963b-bc95a20f7471",
   "metadata": {},
   "outputs": [],
   "source": [
    "genomic_visualizer.df_reduced.to_csv(\"TSNE_GPU_1000genomes.csv\")"
   ]
  },
  {
   "cell_type": "code",
   "execution_count": 55,
   "id": "182d31f1-d799-4c35-82ed-52eda97e3b9e",
   "metadata": {},
   "outputs": [],
   "source": [
    "genomic_visualizer.reduce_dimension(algorithm='UMAP_CUDA', n_components=2, label=\"Superpopulation name\")"
   ]
  },
  {
   "cell_type": "code",
   "execution_count": 56,
   "id": "860826f7-3da3-4ef2-b62d-942d90f3c5f1",
   "metadata": {},
   "outputs": [
    {
     "data": {
      "text/html": [
       "<div>\n",
       "<style scoped>\n",
       "    .dataframe tbody tr th:only-of-type {\n",
       "        vertical-align: middle;\n",
       "    }\n",
       "\n",
       "    .dataframe tbody tr th {\n",
       "        vertical-align: top;\n",
       "    }\n",
       "\n",
       "    .dataframe thead th {\n",
       "        text-align: right;\n",
       "    }\n",
       "</style>\n",
       "<table border=\"1\" class=\"dataframe\">\n",
       "  <thead>\n",
       "    <tr style=\"text-align: right;\">\n",
       "      <th></th>\n",
       "      <th>component1</th>\n",
       "      <th>component2</th>\n",
       "      <th>Superpopulation name</th>\n",
       "    </tr>\n",
       "  </thead>\n",
       "  <tbody>\n",
       "    <tr>\n",
       "      <th>HG00096</th>\n",
       "      <td>-0.315826</td>\n",
       "      <td>6.784998</td>\n",
       "      <td>European Ancestry</td>\n",
       "    </tr>\n",
       "    <tr>\n",
       "      <th>HG00097</th>\n",
       "      <td>0.126371</td>\n",
       "      <td>7.973272</td>\n",
       "      <td>European Ancestry</td>\n",
       "    </tr>\n",
       "    <tr>\n",
       "      <th>HG00099</th>\n",
       "      <td>0.411083</td>\n",
       "      <td>7.316635</td>\n",
       "      <td>European Ancestry</td>\n",
       "    </tr>\n",
       "    <tr>\n",
       "      <th>HG00100</th>\n",
       "      <td>-0.461454</td>\n",
       "      <td>8.295925</td>\n",
       "      <td>European Ancestry</td>\n",
       "    </tr>\n",
       "    <tr>\n",
       "      <th>HG00101</th>\n",
       "      <td>-0.857195</td>\n",
       "      <td>6.983219</td>\n",
       "      <td>European Ancestry</td>\n",
       "    </tr>\n",
       "  </tbody>\n",
       "</table>\n",
       "</div>"
      ],
      "text/plain": [
       "         component1  component2 Superpopulation name\n",
       "HG00096   -0.315826    6.784998    European Ancestry\n",
       "HG00097    0.126371    7.973272    European Ancestry\n",
       "HG00099    0.411083    7.316635    European Ancestry\n",
       "HG00100   -0.461454    8.295925    European Ancestry\n",
       "HG00101   -0.857195    6.983219    European Ancestry"
      ]
     },
     "execution_count": 56,
     "metadata": {},
     "output_type": "execute_result"
    }
   ],
   "source": [
    "genomic_visualizer.df_reduced.head()"
   ]
  },
  {
   "cell_type": "code",
   "execution_count": 57,
   "id": "6fe11b10-4fea-49c6-bed6-0e42fb1bd8c2",
   "metadata": {},
   "outputs": [],
   "source": [
    "genomic_visualizer.df_reduced.to_csv(\"UMAP_GPU_1000genomes.csv\")"
   ]
  },
  {
   "cell_type": "code",
   "execution_count": 58,
   "id": "5a46f71c-238b-48f3-b9bf-7c2490a49cbf",
   "metadata": {},
   "outputs": [
    {
     "data": {
      "text/plain": [
       "{'1000Genomes': {'GPU': {'PCA_CUDA': 0.01383209228515625,\n",
       "   'TSNE_CUDA': 0.510061502456665,\n",
       "   'UMAP_CUDA': 0.04385709762573242},\n",
       "  'CPU': {}},\n",
       " 'AdaptMAP': {'GPU': {'PCA_CUDA': 15.263635396957397,\n",
       "   'TSNE_CUDA': 0.9569859504699707,\n",
       "   'UMAP_CUDA': 1.5256545543670654},\n",
       "  'CPU': {'PCA': 196.69504523277283}}}"
      ]
     },
     "execution_count": 58,
     "metadata": {},
     "output_type": "execute_result"
    }
   ],
   "source": [
    "runtimes[\"1000Genomes\"][\"GPU\"] = genomic_visualizer.performance_dict\n",
    "runtimes"
   ]
  },
  {
   "cell_type": "code",
   "execution_count": 59,
   "id": "1c5ca387-d080-46b5-b413-af51ee9cad84",
   "metadata": {},
   "outputs": [
    {
     "data": {
      "text/plain": [
       "{'1000Genomes': {'GPU': {'PCA_CUDA': 0.01383209228515625,\n",
       "   'TSNE_CUDA': 0.510061502456665,\n",
       "   'UMAP_CUDA': 0.04385709762573242},\n",
       "  'CPU': {}},\n",
       " 'AdaptMAP': {'GPU': {'PCA_CUDA': 15.263635396957397,\n",
       "   'TSNE_CUDA': 0.9569859504699707,\n",
       "   'UMAP_CUDA': 1.5256545543670654}}}"
      ]
     },
     "execution_count": 59,
     "metadata": {},
     "output_type": "execute_result"
    }
   ],
   "source": [
    "runtimes[\"AdaptMAP\"].pop(\"CPU\")\n",
    "runtimes"
   ]
  },
  {
   "cell_type": "code",
   "execution_count": 60,
   "id": "07283335-3922-44af-a788-dd76ce0b3328",
   "metadata": {},
   "outputs": [
    {
     "data": {
      "text/plain": [
       "{'1000Genomes': {'GPU': {'PCA_CUDA': 0.01383209228515625,\n",
       "   'TSNE_CUDA': 0.510061502456665,\n",
       "   'UMAP_CUDA': 0.04385709762573242}},\n",
       " 'AdaptMAP': {'GPU': {'PCA_CUDA': 15.263635396957397,\n",
       "   'TSNE_CUDA': 0.9569859504699707,\n",
       "   'UMAP_CUDA': 1.5256545543670654}}}"
      ]
     },
     "execution_count": 60,
     "metadata": {},
     "output_type": "execute_result"
    }
   ],
   "source": [
    "runtimes[\"1000Genomes\"].pop(\"CPU\")\n",
    "runtimes"
   ]
  },
  {
   "cell_type": "code",
   "execution_count": 61,
   "id": "5d714ef9-09dd-44bc-ae81-1a88c98cffbb",
   "metadata": {},
   "outputs": [],
   "source": [
    "import json\n",
    "with open('runtimes_GPU_.json', 'w') as file:\n",
    "    json.dump(runtimes, file)"
   ]
  },
  {
   "cell_type": "code",
   "execution_count": 62,
   "id": "f015d5bf-10ee-4d1c-a740-5c362609e311",
   "metadata": {},
   "outputs": [
    {
     "name": "stdout",
     "output_type": "stream",
     "text": [
      "Thu Sep 15 16:00:20 2022       \n",
      "+-----------------------------------------------------------------------------+\n",
      "| NVIDIA-SMI 510.73.05    Driver Version: 510.73.05    CUDA Version: 11.6     |\n",
      "|-------------------------------+----------------------+----------------------+\n",
      "| GPU  Name        Persistence-M| Bus-Id        Disp.A | Volatile Uncorr. ECC |\n",
      "| Fan  Temp  Perf  Pwr:Usage/Cap|         Memory-Usage | GPU-Util  Compute M. |\n",
      "|                               |                      |               MIG M. |\n",
      "|===============================+======================+======================|\n",
      "|   0  NVIDIA A100-SXM...  Off  | 00000000:00:05.0 Off |                    0 |\n",
      "| N/A   39C    P0    67W / 500W |   2253MiB / 81920MiB |      0%      Default |\n",
      "|                               |                      |             Disabled |\n",
      "+-------------------------------+----------------------+----------------------+\n",
      "                                                                               \n",
      "+-----------------------------------------------------------------------------+\n",
      "| Processes:                                                                  |\n",
      "|  GPU   GI   CI        PID   Type   Process name                  GPU Memory |\n",
      "|        ID   ID                                                   Usage      |\n",
      "|=============================================================================|\n",
      "+-----------------------------------------------------------------------------+\n"
     ]
    }
   ],
   "source": [
    "!nvidia-smi"
   ]
  },
  {
   "cell_type": "code",
   "execution_count": 63,
   "id": "16a0c98d-65e1-45d2-801f-c5639e6b0523",
   "metadata": {},
   "outputs": [
    {
     "name": "stdout",
     "output_type": "stream",
     "text": [
      "Thu Sep 15 16:00:43 2022       \n",
      "+-----------------------------------------------------------------------------+\n",
      "| NVIDIA-SMI 510.73.05    Driver Version: 510.73.05    CUDA Version: 11.6     |\n",
      "|-------------------------------+----------------------+----------------------+\n",
      "| GPU  Name        Persistence-M| Bus-Id        Disp.A | Volatile Uncorr. ECC |\n",
      "| Fan  Temp  Perf  Pwr:Usage/Cap|         Memory-Usage | GPU-Util  Compute M. |\n",
      "|                               |                      |               MIG M. |\n",
      "|===============================+======================+======================|\n",
      "|   0  NVIDIA A100-SXM...  Off  | 00000000:00:05.0 Off |                    0 |\n",
      "| N/A   39C    P0    68W / 500W |   2201MiB / 81920MiB |      0%      Default |\n",
      "|                               |                      |             Disabled |\n",
      "+-------------------------------+----------------------+----------------------+\n",
      "                                                                               \n",
      "+-----------------------------------------------------------------------------+\n",
      "| Processes:                                                                  |\n",
      "|  GPU   GI   CI        PID   Type   Process name                  GPU Memory |\n",
      "|        ID   ID                                                   Usage      |\n",
      "|=============================================================================|\n",
      "+-----------------------------------------------------------------------------+\n"
     ]
    }
   ],
   "source": [
    "genomic_visualizer.garbage_collect()\n",
    "!nvidia-smi"
   ]
  },
  {
   "cell_type": "code",
   "execution_count": null,
   "id": "cf50da4d-25a9-47b1-a79e-6b70d682cfcd",
   "metadata": {},
   "outputs": [],
   "source": []
  }
 ],
 "metadata": {
  "kernelspec": {
   "display_name": "Python 3 (ipykernel)",
   "language": "python",
   "name": "python3"
  },
  "language_info": {
   "codemirror_mode": {
    "name": "ipython",
    "version": 3
   },
   "file_extension": ".py",
   "mimetype": "text/x-python",
   "name": "python",
   "nbconvert_exporter": "python",
   "pygments_lexer": "ipython3",
   "version": "3.9.12"
  }
 },
 "nbformat": 4,
 "nbformat_minor": 5
}
