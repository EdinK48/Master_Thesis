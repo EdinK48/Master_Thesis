{
 "cells": [
  {
   "cell_type": "code",
   "execution_count": 1,
   "id": "38dbe90e-55c4-4029-944e-fabb9f154ddb",
   "metadata": {},
   "outputs": [],
   "source": [
    "#import cudf\n",
    "import cuml\n",
    "import pandas as pd\n",
    "import numpy as np\n",
    "import matplotlib.pyplot as plt\n",
    "import warnings\n",
    "warnings.filterwarnings('ignore')\n",
    "import time\n",
    "from cuml.decomposition import PCA as PCA_CUDA\n",
    "from cuml import UMAP as UMAP_CUDA\n",
    "from cuml import IncrementalPCA as IncPCA_CUDA\n",
    "import cupy as cp\n",
    "from cuml.preprocessing import MaxAbsScaler\n",
    "from cuml import TSNE as TSNE_CUDA\n",
    "from sklearn.preprocessing import OneHotEncoder as CPU_ohe\n",
    "from sklearn.decomposition import IncrementalPCA as IncPCA"
   ]
  },
  {
   "cell_type": "code",
   "execution_count": 2,
   "id": "98dabf35-d1f5-4340-8a96-3f8dd8664f73",
   "metadata": {},
   "outputs": [],
   "source": [
    "import gc\n",
    "#import plotly.express as px"
   ]
  },
  {
   "cell_type": "code",
   "execution_count": 14,
   "id": "79dfe542-7907-45c2-aca2-fc41b952bfe6",
   "metadata": {},
   "outputs": [],
   "source": [
    "class GenomicVisualizer():\n",
    "    \n",
    "    \n",
    "    def __init__(self, file_path):\n",
    "        self.memory_cleared = False\n",
    "        self.df_genetic_data = pd.read_hdf(path_or_buf=file_path, key=\"Genotypes_variants_per_sample\")\n",
    "        self.df_phenotype_data = pd.read_hdf(path_or_buf=file_path, key=\"phenotype_data\")\n",
    "        self.X = None\n",
    "        self.performance_dict = {}\n",
    "        self.components = 0\n",
    "        self.columns = []\n",
    "        self.X_CPU = None\n",
    "        self.X_transformed_GPU = None\n",
    "        self.X_transformed_CPU = None\n",
    "        self.df_reduced = None\n",
    "        self.label = None\n",
    "        \n",
    "        \n",
    "    def one_hot_encode(self):\n",
    "        if self.memory_cleared is False:\n",
    "            if self.X is None:\n",
    "                self.X = cp.asarray(CPU_ohe().fit_transform(self.df_genetic_data.values).toarray().astype(np.float32))\n",
    "            else: print(\"The values of the genotype data frame self.df_genetic_data.values are already encoded\")\n",
    "        else: \n",
    "            if self.X is None:\n",
    "                self.X = cp.asarray(self.X_transformed_CPU)\n",
    "                self.memory_cleared = False\n",
    "        \n",
    "        \n",
    "    def reduce_dimension(self, algorithm='PCA_CUDA', n_components=3, label=None):\n",
    "        if self.memory_cleared is True: self.X = cp.asarray(self.X_CPU)\n",
    "        if label not in self.df_phenotype_data.columns:\n",
    "            print(f\"{label} is not a phenotype. Check the columns of df_phenotype_data from the class GenomicVisualizer()\")\n",
    "            return\n",
    "        else: self.label = label\n",
    "        self.components = n_components\n",
    "        if self.components not in [2, 3]:\n",
    "            print(\"The only number of n_components / dimensions allowed are 2 or 3\")\n",
    "            return\n",
    "        else:\n",
    "            if self.components == 2: self.columns = ['component1', 'component2']\n",
    "            else: self.columns = ['component1', 'component2', 'component3']\n",
    "        if algorithm == 'PCA_CUDA':\n",
    "            self.pca_cuda(n_components=n_components, algorithm=\"PCA_CUDA\")\n",
    "        elif algorithm == \"TSNE_CUDA\":\n",
    "            self.tsne_cuda(n_components=n_components, algorithm=\"TSNE_CUDA\")\n",
    "        elif algorithm == \"UMAP_CUDA\":\n",
    "            self.umap_cuda(n_components=n_components, algorithm=\"UMAP_CUDA\")\n",
    "    \n",
    "    \n",
    "    def pca_cuda(self, n_components, algorithm):\n",
    "        start_time = time.time()\n",
    "        if self.X.shape[1] <= 3000:\n",
    "            self.X_transformed_GPU = PCA_CUDA(n_components=n_components).fit_transform(self.X)\n",
    "        else:\n",
    "            self.X_transformed_GPU = IncPCA_CUDA(n_components=n_components).fit_transform(self.X)\n",
    "        self.performance_dict[algorithm] = time.time() - start_time\n",
    "        self.create_reduced_dataframe()\n",
    "    \n",
    "    \n",
    "    def tsne_cuda(self, n_components, algorithm):\n",
    "        start_time = time.time()\n",
    "        self.X_transformed_GPU = TSNE_CUDA(n_components=n_components, perplexity=10, n_neighbors=90).fit_transform(self.X)\n",
    "        self.performance_dict[algorithm] = time.time() - start_time\n",
    "        self.create_reduced_dataframe()\n",
    "\n",
    "    \n",
    "    def umap_cuda(self, n_components, algorithm):\n",
    "        start_time = time.time()\n",
    "        self.X_transformed_GPU = UMAP_CUDA(n_components=n_components, n_neighbors=50).fit_transform(self.X)\n",
    "        self.performance_dict[algorithm] = time.time() - start_time\n",
    "        self.create_reduced_dataframe()\n",
    "    \n",
    "    \n",
    "    def create_reduced_dataframe(self):\n",
    "        self.df_reduced = pd.DataFrame(self.X_transformed_GPU.get(),\n",
    "                            index=self.df_genetic_data.index,\n",
    "                            columns=self.columns)\n",
    "        if self.label is not None:\n",
    "            self.df_reduced = self.df_reduced.merge(self.df_phenotype_data[self.label], left_index=True, right_index=True)\n",
    "\n",
    "    \n",
    "    def garbage_collect(self):\n",
    "        self.memory_cleared = True\n",
    "        self.X_CPU = cp.asnumpy(self.X).astype(np.float32)\n",
    "        self.X_transformed_CPU = cp.asnumpy(self.X_transformed_GPU).astype(np.float32)\n",
    "        del self.X \n",
    "        del self.X_transformed_GPU\n",
    "        gc.collect()    \n",
    "        \n",
    "    \n",
    "    def generate_figure_image(self, save=False):\n",
    "        pass\n"
   ]
  },
  {
   "cell_type": "markdown",
   "id": "28ac17be-010c-42ba-94a9-e286740e2c91",
   "metadata": {},
   "source": [
    "## For both the 1000 Genomes and AdaptMAP Project, the hyperparameters in TSNE_CUDA were adjusted in the class GenomicVisualizer. After each run, the reduced dataframes were stored as CSV files."
   ]
  },
  {
   "cell_type": "code",
   "execution_count": 15,
   "id": "e908ebfe-f531-4eba-bb5a-23059b128c9a",
   "metadata": {},
   "outputs": [
    {
     "name": "stdout",
     "output_type": "stream",
     "text": [
      "Requirement already satisfied: tables in /opt/conda/envs/rapids/lib/python3.8/site-packages (3.7.0)\n",
      "Requirement already satisfied: numexpr>=2.6.2 in /opt/conda/envs/rapids/lib/python3.8/site-packages (from tables) (2.8.3)\n",
      "Requirement already satisfied: packaging in /opt/conda/envs/rapids/lib/python3.8/site-packages (from tables) (21.3)\n",
      "Requirement already satisfied: numpy>=1.19.0 in /opt/conda/envs/rapids/lib/python3.8/site-packages (from tables) (1.21.6)\n",
      "Requirement already satisfied: pyparsing!=3.0.5,>=2.0.2 in /opt/conda/envs/rapids/lib/python3.8/site-packages (from packaging->tables) (3.0.9)\n",
      "\u001b[33mWARNING: Running pip as the 'root' user can result in broken permissions and conflicting behaviour with the system package manager. It is recommended to use a virtual environment instead: https://pip.pypa.io/warnings/venv\u001b[0m\u001b[33m\n",
      "\u001b[0m"
     ]
    }
   ],
   "source": [
    "!pip install tables"
   ]
  },
  {
   "cell_type": "code",
   "execution_count": 16,
   "id": "9b7b56a1-98f0-43f3-bade-032944aa6830",
   "metadata": {},
   "outputs": [],
   "source": [
    "genomic_visualizer = GenomicVisualizer(\"AdaptMap-Goat-Project.h5\")\n",
    "genomic_visualizer.one_hot_encode()\n",
    "df_reduced_dimensions = genomic_visualizer.reduce_dimension(algorithm='UMAP_CUDA', n_components=2, label=\"Breeds\")"
   ]
  },
  {
   "cell_type": "code",
   "execution_count": 17,
   "id": "7ba35552-b68b-4ef5-8eea-dd444ab1626b",
   "metadata": {},
   "outputs": [
    {
     "data": {
      "text/html": [
       "<div>\n",
       "<style scoped>\n",
       "    .dataframe tbody tr th:only-of-type {\n",
       "        vertical-align: middle;\n",
       "    }\n",
       "\n",
       "    .dataframe tbody tr th {\n",
       "        vertical-align: top;\n",
       "    }\n",
       "\n",
       "    .dataframe thead th {\n",
       "        text-align: right;\n",
       "    }\n",
       "</style>\n",
       "<table border=\"1\" class=\"dataframe\">\n",
       "  <thead>\n",
       "    <tr style=\"text-align: right;\">\n",
       "      <th></th>\n",
       "      <th>component1</th>\n",
       "      <th>component2</th>\n",
       "      <th>Breeds</th>\n",
       "    </tr>\n",
       "    <tr>\n",
       "      <th>iid</th>\n",
       "      <th></th>\n",
       "      <th></th>\n",
       "      <th></th>\n",
       "    </tr>\n",
       "  </thead>\n",
       "  <tbody>\n",
       "    <tr>\n",
       "      <th>ET_ABR0001</th>\n",
       "      <td>-5.290865</td>\n",
       "      <td>6.280587</td>\n",
       "      <td>Abergelle</td>\n",
       "    </tr>\n",
       "    <tr>\n",
       "      <th>ET_ABR0002</th>\n",
       "      <td>-5.218983</td>\n",
       "      <td>6.214294</td>\n",
       "      <td>Abergelle</td>\n",
       "    </tr>\n",
       "    <tr>\n",
       "      <th>ET_ABR0003</th>\n",
       "      <td>-5.269800</td>\n",
       "      <td>6.282075</td>\n",
       "      <td>Abergelle</td>\n",
       "    </tr>\n",
       "    <tr>\n",
       "      <th>ET_ABR0004</th>\n",
       "      <td>-5.222088</td>\n",
       "      <td>6.291340</td>\n",
       "      <td>Abergelle</td>\n",
       "    </tr>\n",
       "    <tr>\n",
       "      <th>ET_ABR0005</th>\n",
       "      <td>-5.289565</td>\n",
       "      <td>6.274065</td>\n",
       "      <td>Abergelle</td>\n",
       "    </tr>\n",
       "  </tbody>\n",
       "</table>\n",
       "</div>"
      ],
      "text/plain": [
       "            component1  component2     Breeds\n",
       "iid                                          \n",
       "ET_ABR0001   -5.290865    6.280587  Abergelle\n",
       "ET_ABR0002   -5.218983    6.214294  Abergelle\n",
       "ET_ABR0003   -5.269800    6.282075  Abergelle\n",
       "ET_ABR0004   -5.222088    6.291340  Abergelle\n",
       "ET_ABR0005   -5.289565    6.274065  Abergelle"
      ]
     },
     "execution_count": 17,
     "metadata": {},
     "output_type": "execute_result"
    }
   ],
   "source": [
    "genomic_visualizer.df_reduced.to_csv(\"TSNE_adaptmap_perp50.csv\")\n",
    "genomic_visualizer.df_reduced.head()"
   ]
  },
  {
   "cell_type": "code",
   "execution_count": 7,
   "id": "f7b25ecd-47da-4f58-b39d-4177c5b56345",
   "metadata": {},
   "outputs": [],
   "source": [
    "genomic_visualizer.df_reduced.to_csv(\"TSNE_adaptmap_perp50.csv\")"
   ]
  },
  {
   "cell_type": "code",
   "execution_count": 1,
   "id": "dbe52286-bac9-4af5-96b0-af2fc65015ed",
   "metadata": {},
   "outputs": [
    {
     "name": "stdout",
     "output_type": "stream",
     "text": [
      "Thu Sep 15 22:46:55 2022       \n",
      "+-----------------------------------------------------------------------------+\n",
      "| NVIDIA-SMI 510.73.05    Driver Version: 510.73.05    CUDA Version: 11.6     |\n",
      "|-------------------------------+----------------------+----------------------+\n",
      "| GPU  Name        Persistence-M| Bus-Id        Disp.A | Volatile Uncorr. ECC |\n",
      "| Fan  Temp  Perf  Pwr:Usage/Cap|         Memory-Usage | GPU-Util  Compute M. |\n",
      "|                               |                      |               MIG M. |\n",
      "|===============================+======================+======================|\n",
      "|   0  NVIDIA RTX A5000    Off  | 00000000:00:05.0 Off |                  Off |\n",
      "| 30%   35C    P8    19W / 230W |      0MiB / 24564MiB |      0%      Default |\n",
      "|                               |                      |                  N/A |\n",
      "+-------------------------------+----------------------+----------------------+\n",
      "                                                                               \n",
      "+-----------------------------------------------------------------------------+\n",
      "| Processes:                                                                  |\n",
      "|  GPU   GI   CI        PID   Type   Process name                  GPU Memory |\n",
      "|        ID   ID                                                   Usage      |\n",
      "|=============================================================================|\n",
      "|  No running processes found                                                 |\n",
      "+-----------------------------------------------------------------------------+\n"
     ]
    }
   ],
   "source": [
    "!nvidia-smi"
   ]
  },
  {
   "cell_type": "code",
   "execution_count": 16,
   "id": "f339b53b-9aad-4a00-9924-945ea0ea15bb",
   "metadata": {},
   "outputs": [
    {
     "name": "stdout",
     "output_type": "stream",
     "text": [
      "Thu Sep 15 22:31:32 2022       \n",
      "+-----------------------------------------------------------------------------+\n",
      "| NVIDIA-SMI 510.73.05    Driver Version: 510.73.05    CUDA Version: 11.6     |\n",
      "|-------------------------------+----------------------+----------------------+\n",
      "| GPU  Name        Persistence-M| Bus-Id        Disp.A | Volatile Uncorr. ECC |\n",
      "| Fan  Temp  Perf  Pwr:Usage/Cap|         Memory-Usage | GPU-Util  Compute M. |\n",
      "|                               |                      |               MIG M. |\n",
      "|===============================+======================+======================|\n",
      "|   0  NVIDIA RTX A5000    Off  | 00000000:00:05.0 Off |                  Off |\n",
      "| 30%   36C    P2    61W / 230W |   1405MiB / 24564MiB |      0%      Default |\n",
      "|                               |                      |                  N/A |\n",
      "+-------------------------------+----------------------+----------------------+\n",
      "                                                                               \n",
      "+-----------------------------------------------------------------------------+\n",
      "| Processes:                                                                  |\n",
      "|  GPU   GI   CI        PID   Type   Process name                  GPU Memory |\n",
      "|        ID   ID                                                   Usage      |\n",
      "|=============================================================================|\n",
      "+-----------------------------------------------------------------------------+\n"
     ]
    }
   ],
   "source": [
    "genomic_visualizer.garbage_collect()\n",
    "!nvidia-smi"
   ]
  },
  {
   "cell_type": "code",
   "execution_count": 8,
   "id": "36c2e02c-39b8-4389-bab7-22e65be3f980",
   "metadata": {},
   "outputs": [
    {
     "name": "stdout",
     "output_type": "stream",
     "text": [
      "Thu Sep 15 22:49:34 2022       \n",
      "+-----------------------------------------------------------------------------+\n",
      "| NVIDIA-SMI 510.73.05    Driver Version: 510.73.05    CUDA Version: 11.6     |\n",
      "|-------------------------------+----------------------+----------------------+\n",
      "| GPU  Name        Persistence-M| Bus-Id        Disp.A | Volatile Uncorr. ECC |\n",
      "| Fan  Temp  Perf  Pwr:Usage/Cap|         Memory-Usage | GPU-Util  Compute M. |\n",
      "|                               |                      |               MIG M. |\n",
      "|===============================+======================+======================|\n",
      "|   0  NVIDIA RTX A5000    Off  | 00000000:00:05.0 Off |                  Off |\n",
      "| 30%   38C    P2    87W / 230W |   1399MiB / 24564MiB |      0%      Default |\n",
      "|                               |                      |                  N/A |\n",
      "+-------------------------------+----------------------+----------------------+\n",
      "                                                                               \n",
      "+-----------------------------------------------------------------------------+\n",
      "| Processes:                                                                  |\n",
      "|  GPU   GI   CI        PID   Type   Process name                  GPU Memory |\n",
      "|        ID   ID                                                   Usage      |\n",
      "|=============================================================================|\n",
      "+-----------------------------------------------------------------------------+\n"
     ]
    }
   ],
   "source": [
    "genomic_visualizer = GenomicVisualizer(\"1000_genomes_project.h5\")\n",
    "genomic_visualizer.one_hot_encode()\n",
    "df_reduced_dimensions = genomic_visualizer.reduce_dimension(algorithm='TSNE_CUDA', n_components=2, label=\"Superpopulation name\")\n",
    "genomic_visualizer.df_reduced.to_csv(\"TSNE_1000genomes_perp10.csv\")\n",
    "!nvidia-smi"
   ]
  },
  {
   "cell_type": "code",
   "execution_count": 10,
   "id": "2ba19cb0-8314-4cbf-a8c6-40dfff84fac9",
   "metadata": {},
   "outputs": [],
   "source": [
    "genomic_visualizer.garbage_collect()\n",
    "!nvidia-smi"
   ]
  },
  {
   "cell_type": "markdown",
   "id": "a1478138-1178-4214-a31c-602f1b61a1e6",
   "metadata": {},
   "source": [
    "## For both the 1000 Genomes and AdaptMAP Project, the hyperparameters in UMAP_CUDA were adjusted in the class GenomicVisualizer. After each run, the reduced dataframes were stored as CSV files"
   ]
  },
  {
   "cell_type": "code",
   "execution_count": 14,
   "id": "43970604-fd9c-4f99-9887-478832dda519",
   "metadata": {},
   "outputs": [
    {
     "name": "stdout",
     "output_type": "stream",
     "text": [
      "Thu Sep 15 23:01:00 2022       \n",
      "+-----------------------------------------------------------------------------+\n",
      "| NVIDIA-SMI 510.73.05    Driver Version: 510.73.05    CUDA Version: 11.6     |\n",
      "|-------------------------------+----------------------+----------------------+\n",
      "| GPU  Name        Persistence-M| Bus-Id        Disp.A | Volatile Uncorr. ECC |\n",
      "| Fan  Temp  Perf  Pwr:Usage/Cap|         Memory-Usage | GPU-Util  Compute M. |\n",
      "|                               |                      |               MIG M. |\n",
      "|===============================+======================+======================|\n",
      "|   0  NVIDIA RTX A5000    Off  | 00000000:00:05.0 Off |                  Off |\n",
      "| 30%   40C    P2    62W / 230W |   4197MiB / 24564MiB |      0%      Default |\n",
      "|                               |                      |                  N/A |\n",
      "+-------------------------------+----------------------+----------------------+\n",
      "                                                                               \n",
      "+-----------------------------------------------------------------------------+\n",
      "| Processes:                                                                  |\n",
      "|  GPU   GI   CI        PID   Type   Process name                  GPU Memory |\n",
      "|        ID   ID                                                   Usage      |\n",
      "|=============================================================================|\n",
      "+-----------------------------------------------------------------------------+\n"
     ]
    }
   ],
   "source": [
    "genomic_visualizer = GenomicVisualizer(\"AdaptMap-Goat-Project.h5\")\n",
    "genomic_visualizer.one_hot_encode()\n",
    "df_reduced_dimensions = genomic_visualizer.reduce_dimension(algorithm='UMAP_CUDA', n_components=2, label=\"Breeds\")\n",
    "genomic_visualizer.df_reduced.to_csv(\"UMAP_adaptmap_neighbors50.csv\")\n",
    "!nvidia-smi"
   ]
  },
  {
   "cell_type": "code",
   "execution_count": 6,
   "id": "6cd98c2e-05ed-4601-a5bf-66ab63f1be8b",
   "metadata": {},
   "outputs": [
    {
     "name": "stdout",
     "output_type": "stream",
     "text": [
      "Thu Sep 15 23:05:42 2022       \n",
      "+-----------------------------------------------------------------------------+\n",
      "| NVIDIA-SMI 510.73.05    Driver Version: 510.73.05    CUDA Version: 11.6     |\n",
      "|-------------------------------+----------------------+----------------------+\n",
      "| GPU  Name        Persistence-M| Bus-Id        Disp.A | Volatile Uncorr. ECC |\n",
      "| Fan  Temp  Perf  Pwr:Usage/Cap|         Memory-Usage | GPU-Util  Compute M. |\n",
      "|                               |                      |               MIG M. |\n",
      "|===============================+======================+======================|\n",
      "|   0  NVIDIA RTX A5000    Off  | 00000000:00:05.0 Off |                  Off |\n",
      "| 30%   37C    P2    30W / 230W |   1451MiB / 24564MiB |      0%      Default |\n",
      "|                               |                      |                  N/A |\n",
      "+-------------------------------+----------------------+----------------------+\n",
      "                                                                               \n",
      "+-----------------------------------------------------------------------------+\n",
      "| Processes:                                                                  |\n",
      "|  GPU   GI   CI        PID   Type   Process name                  GPU Memory |\n",
      "|        ID   ID                                                   Usage      |\n",
      "|=============================================================================|\n",
      "+-----------------------------------------------------------------------------+\n"
     ]
    }
   ],
   "source": [
    "genomic_visualizer = GenomicVisualizer(\"1000_genomes_project.h5\")\n",
    "genomic_visualizer.one_hot_encode()\n",
    "df_reduced_dimensions = genomic_visualizer.reduce_dimension(algorithm='UMAP_CUDA', n_components=2, label=\"Superpopulation name\")\n",
    "genomic_visualizer.df_reduced.to_csv(\"UMAP_1000genomes_neighbors5.csv\")\n",
    "!nvidia-smi"
   ]
  },
  {
   "cell_type": "code",
   "execution_count": null,
   "id": "e715c991-a783-410d-8714-dcacba900252",
   "metadata": {},
   "outputs": [],
   "source": []
  }
 ],
 "metadata": {
  "kernelspec": {
   "display_name": "Python 3 (ipykernel)",
   "language": "python",
   "name": "python3"
  },
  "language_info": {
   "codemirror_mode": {
    "name": "ipython",
    "version": 3
   },
   "file_extension": ".py",
   "mimetype": "text/x-python",
   "name": "python",
   "nbconvert_exporter": "python",
   "pygments_lexer": "ipython3",
   "version": "3.9.12"
  }
 },
 "nbformat": 4,
 "nbformat_minor": 5
}
