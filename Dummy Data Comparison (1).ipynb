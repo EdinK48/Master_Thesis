{
 "cells": [
  {
   "cell_type": "code",
   "execution_count": 1,
   "id": "968a2e05-f758-40df-bdb1-0bff491632f8",
   "metadata": {},
   "outputs": [
    {
     "name": "stdout",
     "output_type": "stream",
     "text": [
      "Fri Sep 16 11:13:47 2022       \n",
      "+-----------------------------------------------------------------------------+\n",
      "| NVIDIA-SMI 510.73.05    Driver Version: 510.73.05    CUDA Version: 11.6     |\n",
      "|-------------------------------+----------------------+----------------------+\n",
      "| GPU  Name        Persistence-M| Bus-Id        Disp.A | Volatile Uncorr. ECC |\n",
      "| Fan  Temp  Perf  Pwr:Usage/Cap|         Memory-Usage | GPU-Util  Compute M. |\n",
      "|                               |                      |               MIG M. |\n",
      "|===============================+======================+======================|\n",
      "|   0  NVIDIA RTX A5000    Off  | 00000000:00:05.0 Off |                  Off |\n",
      "| 30%   40C    P8    20W / 230W |      0MiB / 24564MiB |      0%      Default |\n",
      "|                               |                      |                  N/A |\n",
      "+-------------------------------+----------------------+----------------------+\n",
      "                                                                               \n",
      "+-----------------------------------------------------------------------------+\n",
      "| Processes:                                                                  |\n",
      "|  GPU   GI   CI        PID   Type   Process name                  GPU Memory |\n",
      "|        ID   ID                                                   Usage      |\n",
      "|=============================================================================|\n",
      "|  No running processes found                                                 |\n",
      "+-----------------------------------------------------------------------------+\n"
     ]
    }
   ],
   "source": [
    "!nvidia-smi"
   ]
  },
  {
   "cell_type": "code",
   "execution_count": 2,
   "id": "b9bafb1a-b97e-461e-b463-4a150b6ff69f",
   "metadata": {},
   "outputs": [],
   "source": [
    "import numpy as np\n",
    "from sklearn.decomposition import PCA\n",
    "from sklearn.manifold import TSNE\n",
    "import umap\n",
    "import cupy as cp\n",
    "import time\n",
    "import matplotlib.pyplot as plt\n",
    "from cuml.decomposition import PCA as PCA_CUDA\n",
    "from cuml import UMAP as UMAP_CUDA\n",
    "from cuml import TSNE as TSNE_CUDA\n",
    "import gc"
   ]
  },
  {
   "cell_type": "code",
   "execution_count": 3,
   "id": "69222351-37c3-489f-a7f4-cf8e63a71d30",
   "metadata": {},
   "outputs": [],
   "source": [
    "runtimes_cpu = {\"pca\":{\n",
    "                  \"100\": 0,\n",
    "                  \"500\": 0,\n",
    "                  \"1000\": 0,\n",
    "                  \"3000\": 0,\n",
    "                  \"5000\": 0,\n",
    "                  \"7000\": 0,\n",
    "                  \"10000\": 0\n",
    "            },\n",
    "            \"tsne\": {\n",
    "              \"100\": 0,\n",
    "              \"500\": 0,\n",
    "              \"1000\": 0,\n",
    "              \"3000\": 0,\n",
    "              \"5000\": 0,\n",
    "              \"7000\": 0,\n",
    "              \"10000\": 0,\n",
    "            },\n",
    "            \"umap\": {\n",
    "              \"100\": 0,\n",
    "              \"500\": 0,\n",
    "              \"1000\": 0,\n",
    "              \"3000\": 0,\n",
    "              \"5000\": 0,\n",
    "              \"7000\": 0,\n",
    "              \"10000\": 0\n",
    "            }}\n",
    "\n",
    "runtimes_gpu = {\"pca\":{\n",
    "                  \"100\": 0,\n",
    "                  \"500\": 0,\n",
    "                  \"1000\": 0,\n",
    "                  \"3000\": 0,\n",
    "                  \"5000\": 0,\n",
    "                  \"7000\": 0,\n",
    "                  \"10000\": 0,\n",
    "            },\n",
    "            \"tsne\": {\n",
    "              \"100\": 0,\n",
    "              \"500\": 0,\n",
    "              \"1000\": 0,\n",
    "              \"3000\": 0,\n",
    "              \"5000\": 0,\n",
    "              \"7000\": 0,\n",
    "              \"10000\": 0\n",
    "            },\n",
    "            \"umap\": {\n",
    "              \"100\": 0,\n",
    "              \"500\": 0,\n",
    "              \"1000\": 0,\n",
    "              \"3000\": 0,\n",
    "              \"5000\": 0,\n",
    "              \"7000\": 0,\n",
    "              \"10000\": 0\n",
    "            }}"
   ]
  },
  {
   "cell_type": "code",
   "execution_count": 4,
   "id": "fbd3e7cc-2edf-446c-954e-6eff2c32928b",
   "metadata": {},
   "outputs": [],
   "source": [
    "# np.random.rand(3,2)\n",
    "array_list = [np.random.rand(3500,100),np.random.rand(3500,500), \n",
    "                       np.random.rand(3500,1000),np.random.rand(3500,3000), \n",
    "                       np.random.rand(3500,5000),np.random.rand(3500,7000),\n",
    "                       np.random.rand(3500,10000)]\n",
    "\n",
    "\n",
    "for array in array_list:\n",
    "    start = time.time()\n",
    "    x = PCA(n_components=2).fit_transform(array)\n",
    "    runtimes_cpu[\"pca\"][str(array.shape[1])] = time.time() - start\n",
    "    start = time.time()\n",
    "    x = TSNE(n_components=2).fit_transform(array)\n",
    "    runtimes_cpu[\"tsne\"][str(array.shape[1])] = time.time() - start\n",
    "    start = time.time()\n",
    "    x = umap.UMAP(n_components=2).fit_transform(array)\n",
    "    runtimes_cpu[\"umap\"][str(array.shape[1])] = time.time() - start"
   ]
  },
  {
   "cell_type": "code",
   "execution_count": 5,
   "id": "bc2fa6a5-6734-4b85-acc0-45f86421cb52",
   "metadata": {},
   "outputs": [
    {
     "name": "stdout",
     "output_type": "stream",
     "text": [
      "{'pca': {'100': 0.07370114326477051, '500': 0.3758533000946045, '1000': 0.7899172306060791, '3000': 2.3301095962524414, '5000': 4.218805551528931, '7000': 5.807363271713257, '10000': 8.373606443405151}, 'tsne': {'100': 9.258005142211914, '500': 15.837819337844849, '1000': 16.93349289894104, '3000': 37.85962796211243, '5000': 51.84630227088928, '7000': 66.14574122428894, '10000': 89.97921919822693}, 'umap': {'100': 14.283021926879883, '500': 11.272334098815918, '1000': 12.284748554229736, '3000': 18.09073233604431, '5000': 21.86858582496643, '7000': 27.196758270263672, '10000': 34.79635524749756}}\n"
     ]
    }
   ],
   "source": [
    "print(runtimes_cpu)"
   ]
  },
  {
   "cell_type": "code",
   "execution_count": 6,
   "id": "c810b168-66f4-43c2-b6ec-3d947defb170",
   "metadata": {},
   "outputs": [
    {
     "name": "stdout",
     "output_type": "stream",
     "text": [
      "pca\n",
      "100: 0.07370114326477051\n",
      "500: 0.3758533000946045\n",
      "1000: 0.7899172306060791\n",
      "3000: 2.3301095962524414\n",
      "5000: 4.218805551528931\n",
      "7000: 5.807363271713257\n",
      "10000: 8.373606443405151\n",
      "\n",
      "tsne\n",
      "100: 9.258005142211914\n",
      "500: 15.837819337844849\n",
      "1000: 16.93349289894104\n",
      "3000: 37.85962796211243\n",
      "5000: 51.84630227088928\n",
      "7000: 66.14574122428894\n",
      "10000: 89.97921919822693\n",
      "\n",
      "umap\n",
      "100: 14.283021926879883\n",
      "500: 11.272334098815918\n",
      "1000: 12.284748554229736\n",
      "3000: 18.09073233604431\n",
      "5000: 21.86858582496643\n",
      "7000: 27.196758270263672\n",
      "10000: 34.79635524749756\n",
      "\n"
     ]
    }
   ],
   "source": [
    "for key in runtimes_cpu.keys():\n",
    "    print(key)\n",
    "    for key2 in runtimes_cpu[key].keys():\n",
    "        print(f\"{key2}: {runtimes_cpu[key][key2]}\")\n",
    "    print()"
   ]
  },
  {
   "cell_type": "code",
   "execution_count": 7,
   "id": "700584c5-f48f-4433-a78d-356b0d5d0ee6",
   "metadata": {},
   "outputs": [
    {
     "name": "stdout",
     "output_type": "stream",
     "text": [
      "Fri Sep 16 11:21:27 2022       \n",
      "+-----------------------------------------------------------------------------+\n",
      "| NVIDIA-SMI 510.73.05    Driver Version: 510.73.05    CUDA Version: 11.6     |\n",
      "|-------------------------------+----------------------+----------------------+\n",
      "| GPU  Name        Persistence-M| Bus-Id        Disp.A | Volatile Uncorr. ECC |\n",
      "| Fan  Temp  Perf  Pwr:Usage/Cap|         Memory-Usage | GPU-Util  Compute M. |\n",
      "|                               |                      |               MIG M. |\n",
      "|===============================+======================+======================|\n",
      "|   0  NVIDIA RTX A5000    Off  | 00000000:00:05.0 Off |                  Off |\n",
      "| 30%   41C    P8    20W / 230W |    201MiB / 24564MiB |      0%      Default |\n",
      "|                               |                      |                  N/A |\n",
      "+-------------------------------+----------------------+----------------------+\n",
      "                                                                               \n",
      "+-----------------------------------------------------------------------------+\n",
      "| Processes:                                                                  |\n",
      "|  GPU   GI   CI        PID   Type   Process name                  GPU Memory |\n",
      "|        ID   ID                                                   Usage      |\n",
      "|=============================================================================|\n",
      "+-----------------------------------------------------------------------------+\n"
     ]
    }
   ],
   "source": [
    "!nvidia-smi"
   ]
  },
  {
   "cell_type": "code",
   "execution_count": 9,
   "id": "59213525-742c-4c10-8888-615886e1c722",
   "metadata": {},
   "outputs": [
    {
     "name": "stdout",
     "output_type": "stream",
     "text": [
      "{'pca': {'100': 0.07370114326477051, '500': 0.3758533000946045, '1000': 0.7899172306060791, '3000': 2.3301095962524414, '5000': 4.218805551528931, '7000': 5.807363271713257, '10000': 8.373606443405151}, 'tsne': {'100': 9.258005142211914, '500': 15.837819337844849, '1000': 16.93349289894104, '3000': 37.85962796211243, '5000': 51.84630227088928, '7000': 66.14574122428894, '10000': 89.97921919822693}, 'umap': {'100': 14.283021926879883, '500': 11.272334098815918, '1000': 12.284748554229736, '3000': 18.09073233604431, '5000': 21.86858582496643, '7000': 27.196758270263672, '10000': 34.79635524749756}}\n"
     ]
    }
   ],
   "source": [
    "print(runtimes_cpu)"
   ]
  },
  {
   "cell_type": "code",
   "execution_count": 12,
   "id": "7f215386-3a21-4f32-89bf-973dd4f96107",
   "metadata": {},
   "outputs": [],
   "source": [
    "for array in array_list:\n",
    "    array = cp.asarray(array)\n",
    "    start = time.time()\n",
    "    x = PCA_CUDA(n_components=2).fit_transform(array)\n",
    "    runtimes_gpu[\"pca\"][str(array.shape[1])] = time.time() - start\n",
    "    start = time.time()\n",
    "    x = TSNE_CUDA(n_components=2).fit_transform(array)\n",
    "    runtimes_gpu[\"tsne\"][str(array.shape[1])] = time.time() - start\n",
    "    start = time.time()\n",
    "    x = UMAP_CUDA(n_components=2).fit_transform(array)\n",
    "    runtimes_gpu[\"umap\"][str(array.shape[1])] = time.time() - start\n",
    "    del array\n",
    "    del x\n",
    "    gc.collect()"
   ]
  },
  {
   "cell_type": "code",
   "execution_count": 13,
   "id": "4170efe8-e828-4f30-a60c-50c16f263ed3",
   "metadata": {},
   "outputs": [
    {
     "name": "stdout",
     "output_type": "stream",
     "text": [
      "{'pca': {'100': 0.02672100067138672, '500': 0.027268409729003906, '1000': 0.06846952438354492, '3000': 0.6899240016937256, '5000': 2.297149419784546, '7000': 4.946044921875, '10000': 12.774712324142456}, 'tsne': {'100': 0.5257663726806641, '500': 0.49512219429016113, '1000': 0.4863095283508301, '3000': 0.500159740447998, '5000': 0.5195314884185791, '7000': 0.5325424671173096, '10000': 0.5468857288360596}, 'umap': {'100': 0.025371551513671875, '500': 0.03025960922241211, '1000': 0.03441667556762695, '3000': 0.054555416107177734, '5000': 0.07611370086669922, '7000': 0.09493041038513184, '10000': 0.1258831024169922}}\n"
     ]
    }
   ],
   "source": [
    "print(runtimes_gpu)"
   ]
  },
  {
   "cell_type": "code",
   "execution_count": 14,
   "id": "e044ea06-43cd-46a2-98e1-226effbba5f8",
   "metadata": {},
   "outputs": [
    {
     "name": "stdout",
     "output_type": "stream",
     "text": [
      "Fri Sep 16 11:31:09 2022       \n",
      "+-----------------------------------------------------------------------------+\n",
      "| NVIDIA-SMI 510.73.05    Driver Version: 510.73.05    CUDA Version: 11.6     |\n",
      "|-------------------------------+----------------------+----------------------+\n",
      "| GPU  Name        Persistence-M| Bus-Id        Disp.A | Volatile Uncorr. ECC |\n",
      "| Fan  Temp  Perf  Pwr:Usage/Cap|         Memory-Usage | GPU-Util  Compute M. |\n",
      "|                               |                      |               MIG M. |\n",
      "|===============================+======================+======================|\n",
      "|   0  NVIDIA RTX A5000    Off  | 00000000:00:05.0 Off |                  Off |\n",
      "| 30%   43C    P8    20W / 230W |   1525MiB / 24564MiB |      0%      Default |\n",
      "|                               |                      |                  N/A |\n",
      "+-------------------------------+----------------------+----------------------+\n",
      "                                                                               \n",
      "+-----------------------------------------------------------------------------+\n",
      "| Processes:                                                                  |\n",
      "|  GPU   GI   CI        PID   Type   Process name                  GPU Memory |\n",
      "|        ID   ID                                                   Usage      |\n",
      "|=============================================================================|\n",
      "+-----------------------------------------------------------------------------+\n"
     ]
    }
   ],
   "source": [
    "!nvidia-smi"
   ]
  },
  {
   "cell_type": "code",
   "execution_count": 15,
   "id": "0fe5e2c5-9ff5-4b31-8b3e-94f211ff22d5",
   "metadata": {},
   "outputs": [],
   "source": [
    "all_runtimes = {\n",
    "    \"nr_features\": [100, 500, 1000, 3000, 5000, 7000, 10000],\n",
    "    \"pca_cpu\": list(runtimes_cpu[\"pca\"].values()),\n",
    "    \"tsne_cpu\": list(runtimes_cpu[\"tsne\"].values()),\n",
    "    \"umap_cpu\": list(runtimes_cpu[\"umap\"].values()),\n",
    "    \"pca_gpu\": list(runtimes_gpu[\"pca\"].values()),\n",
    "    \"tsne_gpu\": list(runtimes_gpu[\"tsne\"].values()),\n",
    "    \"umap_gpu\": list(runtimes_gpu[\"umap\"].values())\n",
    "}"
   ]
  },
  {
   "cell_type": "code",
   "execution_count": 28,
   "id": "31360c49-970f-46a4-9148-0abe9a19caed",
   "metadata": {},
   "outputs": [
    {
     "data": {
      "text/plain": [
       "[0.5257663726806641,\n",
       " 0.49512219429016113,\n",
       " 0.4863095283508301,\n",
       " 0.500159740447998,\n",
       " 0.5195314884185791,\n",
       " 0.5325424671173096,\n",
       " 0.5468857288360596]"
      ]
     },
     "execution_count": 28,
     "metadata": {},
     "output_type": "execute_result"
    }
   ],
   "source": [
    "list(runtimes_gpu[\"tsne\"].values())"
   ]
  },
  {
   "cell_type": "code",
   "execution_count": 16,
   "id": "42751011-4618-44a1-b37c-ff2ff0997fd7",
   "metadata": {},
   "outputs": [
    {
     "name": "stdout",
     "output_type": "stream",
     "text": [
      "{'nr_features': [100, 500, 1000, 3000, 5000, 7000, 10000], 'pca_cpu': [0.07370114326477051, 0.3758533000946045, 0.7899172306060791, 2.3301095962524414, 4.218805551528931, 5.807363271713257, 8.373606443405151], 'tsne_cpu': [9.258005142211914, 15.837819337844849, 16.93349289894104, 37.85962796211243, 51.84630227088928, 66.14574122428894, 89.97921919822693], 'umap_cpu': [14.283021926879883, 11.272334098815918, 12.284748554229736, 18.09073233604431, 21.86858582496643, 27.196758270263672, 34.79635524749756], 'pca_gpu': [0.02672100067138672, 0.027268409729003906, 0.06846952438354492, 0.6899240016937256, 2.297149419784546, 4.946044921875, 12.774712324142456], 'tsne_gpu': [0.5257663726806641, 0.49512219429016113, 0.4863095283508301, 0.500159740447998, 0.5195314884185791, 0.5325424671173096, 0.5468857288360596], 'umap_gpu': [0.025371551513671875, 0.03025960922241211, 0.03441667556762695, 0.054555416107177734, 0.07611370086669922, 0.09493041038513184, 0.1258831024169922]}\n"
     ]
    }
   ],
   "source": [
    "print(all_runtimes)"
   ]
  },
  {
   "cell_type": "code",
   "execution_count": 17,
   "id": "9e0210cc-cca4-4e36-8307-0a7afc7deadd",
   "metadata": {},
   "outputs": [
    {
     "name": "stdout",
     "output_type": "stream",
     "text": [
      "nr_features: [100, 500, 1000, 3000, 5000, 7000, 10000]\n",
      "pca_cpu: [0.07370114326477051, 0.3758533000946045, 0.7899172306060791, 2.3301095962524414, 4.218805551528931, 5.807363271713257, 8.373606443405151]\n",
      "tsne_cpu: [9.258005142211914, 15.837819337844849, 16.93349289894104, 37.85962796211243, 51.84630227088928, 66.14574122428894, 89.97921919822693]\n",
      "umap_cpu: [14.283021926879883, 11.272334098815918, 12.284748554229736, 18.09073233604431, 21.86858582496643, 27.196758270263672, 34.79635524749756]\n",
      "pca_gpu: [0.02672100067138672, 0.027268409729003906, 0.06846952438354492, 0.6899240016937256, 2.297149419784546, 4.946044921875, 12.774712324142456]\n",
      "tsne_gpu: [0.5257663726806641, 0.49512219429016113, 0.4863095283508301, 0.500159740447998, 0.5195314884185791, 0.5325424671173096, 0.5468857288360596]\n",
      "umap_gpu: [0.025371551513671875, 0.03025960922241211, 0.03441667556762695, 0.054555416107177734, 0.07611370086669922, 0.09493041038513184, 0.1258831024169922]\n"
     ]
    }
   ],
   "source": [
    "for key in all_runtimes.keys():\n",
    "    print(f\"{key}: {all_runtimes[key]}\")"
   ]
  },
  {
   "cell_type": "code",
   "execution_count": 22,
   "id": "3a014ce2-69f5-4d90-a59f-593ecaedb26b",
   "metadata": {},
   "outputs": [],
   "source": [
    "import json\n",
    "with open('run_times_dummy_data.json', 'w') as file:\n",
    "    json.dump(all_runtimes, file)"
   ]
  },
  {
   "cell_type": "code",
   "execution_count": 23,
   "id": "b2fe7b82-6486-4cd5-955e-fbf2b5714082",
   "metadata": {},
   "outputs": [],
   "source": [
    "with open('run_times_dummy_data.json') as json_file:\n",
    "    all_runtimes = json.load(json_file)"
   ]
  },
  {
   "cell_type": "code",
   "execution_count": 24,
   "id": "bb0d7c57-6936-44e0-8160-2f3bdeacc017",
   "metadata": {},
   "outputs": [
    {
     "name": "stdout",
     "output_type": "stream",
     "text": [
      "nr_features: [100, 500, 1000, 3000, 5000, 7000, 10000]\n",
      "pca_cpu: [0.07370114326477051, 0.3758533000946045, 0.7899172306060791, 2.3301095962524414, 4.218805551528931, 5.807363271713257, 8.373606443405151]\n",
      "tsne_cpu: [9.258005142211914, 15.837819337844849, 16.93349289894104, 37.85962796211243, 51.84630227088928, 66.14574122428894, 89.97921919822693]\n",
      "umap_cpu: [14.283021926879883, 11.272334098815918, 12.284748554229736, 18.09073233604431, 21.86858582496643, 27.196758270263672, 34.79635524749756]\n",
      "pca_gpu: [0.02672100067138672, 0.027268409729003906, 0.06846952438354492, 0.6899240016937256, 2.297149419784546, 4.946044921875, 12.774712324142456]\n",
      "tsne_gpu: [0.5257663726806641, 0.49512219429016113, 0.4863095283508301, 0.500159740447998, 0.5195314884185791, 0.5325424671173096, 0.5468857288360596]\n",
      "umap_gpu: [0.025371551513671875, 0.03025960922241211, 0.03441667556762695, 0.054555416107177734, 0.07611370086669922, 0.09493041038513184, 0.1258831024169922]\n"
     ]
    }
   ],
   "source": [
    "for key in all_runtimes.keys():\n",
    "    print(f\"{key}: {all_runtimes[key]}\")"
   ]
  },
  {
   "cell_type": "code",
   "execution_count": 29,
   "id": "6f0a7d44-bf72-43d6-b7cc-9d1a8bd2f17d",
   "metadata": {},
   "outputs": [
    {
     "data": {
      "image/png": "[encoded data removed]",
      "text/plain": [
       "<Figure size 432x288 with 1 Axes>"
      ]
     },
     "metadata": {
      "needs_background": "light"
     },
     "output_type": "display_data"
    }
   ],
   "source": [
    "plt.plot(all_runtimes[\"nr_features\"], all_runtimes[\"pca_cpu\"],  color='r', label='pca_cpu')\n",
    "plt.plot(all_runtimes[\"nr_features\"], all_runtimes[\"tsne_cpu\"],  color='g', label='tsne_cpu')\n",
    "plt.plot(all_runtimes[\"nr_features\"], all_runtimes[\"umap_cpu\"], color='b', label='umap_cpu')\n",
    "plt.plot(all_runtimes[\"nr_features\"], all_runtimes[\"pca_gpu\"],  color='c', label='pca_gpu')\n",
    "plt.plot(all_runtimes[\"nr_features\"], all_runtimes[\"tsne_gpu\"], color='k', label='tsne_gpu')\n",
    "plt.plot(all_runtimes[\"nr_features\"], all_runtimes[\"umap_gpu\"], color='m', label='umap_gpu')\n",
    "\n",
    "# Naming the x-axis, y-axis and the whole graph\n",
    "plt.xlabel(\"Data Points\")\n",
    "plt.ylabel(\"Runtime\")\n",
    "plt.title(\"Runtimes for dummy datasets with different number of features \")\n",
    "  \n",
    "# Adding legend, which helps us recognize the curve according to it's color\n",
    "plt.legend()\n",
    "plt.minorticks_on()\n",
    "# To load the display window\n",
    "plt.savefig('runtimes_dummy_data.png')\n",
    "plt.show()"
   ]
  },
  {
   "cell_type": "code",
   "execution_count": null,
   "id": "ccb13c94-71fb-4d81-883b-ac0f8ee39934",
   "metadata": {},
   "outputs": [],
   "source": []
  }
 ],
 "metadata": {
  "kernelspec": {
   "display_name": "Python 3 (ipykernel)",
   "language": "python",
   "name": "python3"
  },
  "language_info": {
   "codemirror_mode": {
    "name": "ipython",
    "version": 3
   },
   "file_extension": ".py",
   "mimetype": "text/x-python",
   "name": "python",
   "nbconvert_exporter": "python",
   "pygments_lexer": "ipython3",
   "version": "3.9.12"
  }
 },
 "nbformat": 4,
 "nbformat_minor": 5
}
